{
 "cells": [
  {
   "cell_type": "code",
   "execution_count": 2,
   "metadata": {},
   "outputs": [],
   "source": [
    "# %load bigquery_27.py\n",
    "import six\n",
    "from google.cloud import bigquery\n",
    "\n",
    "client = bigquery.Client()"
   ]
  },
  {
   "cell_type": "code",
   "execution_count": 29,
   "metadata": {},
   "outputs": [],
   "source": [
    "query = \"\"\"\n",
    " SELECT\n",
    "    C.id as id, repo_name, path, content\n",
    "  FROM (\n",
    "  SELECT id, content FROM\n",
    "    [bigquery-public-data:github_repos.contents]\n",
    "  WHERE\n",
    "    content like '%k8s%' or content like '%docker' or content like '%kubernetes%'\n",
    "    GROUP BY ID, CONTENT\n",
    "  ) AS C\n",
    "INNER JOIN (\n",
    "  SELECT\n",
    "    id, repo_name, path\n",
    "  FROM\n",
    "    [bigquery-public-data:github_repos.files]\n",
    "  WHERE\n",
    "    LOWER(path) LIKE '%{}' and LOWER(path) not LIKE '%vendor%'\n",
    "  GROUP BY\n",
    "    path, id, repo_name) AS F\n",
    "ON\n",
    "      C.id = F.id\n",
    "\"\"\".format('gopkg.toml')"
   ]
  },
  {
   "cell_type": "code",
   "execution_count": 30,
   "metadata": {},
   "outputs": [],
   "source": [
    "def run_query(query):\n",
    "    query_results = client.run_sync_query(query)\n",
    "    query_results.use_legacy_sql = True\n",
    "\n",
    "    query_results.run()\n",
    "\n",
    "    # The query might not complete in a single request. To account for a\n",
    "    # long-running query, force the query results to reload until the query\n",
    "    # is complete.\n",
    "    while not query_results.complete:\n",
    "      query_iterator = query_results.fetch_data()\n",
    "      try:\n",
    "         six.next(iter(query_iterator))\n",
    "      except StopIteration:\n",
    "          pass\n",
    "\n",
    "    rows = query_results.fetch_data()\n",
    "    return rows"
   ]
  },
  {
   "cell_type": "code",
   "execution_count": 31,
   "metadata": {},
   "outputs": [],
   "source": [
    "response = run_query(query)"
   ]
  },
  {
   "cell_type": "code",
   "execution_count": 32,
   "metadata": {},
   "outputs": [],
   "source": [
    "resp = []\n",
    "for row in response:\n",
    "    resp.append(row)"
   ]
  },
  {
   "cell_type": "code",
   "execution_count": 33,
   "metadata": {},
   "outputs": [],
   "source": [
    "with open('kube_ecosystem_gopkg_toml.json', 'w') as f:\n",
    "    f.write(json.dumps(resp))"
   ]
  },
  {
   "cell_type": "code",
   "execution_count": 34,
   "metadata": {},
   "outputs": [
    {
     "name": "stdout",
     "output_type": "stream",
     "text": [
      "265\n"
     ]
    }
   ],
   "source": [
    "print(len(resp))"
   ]
  },
  {
   "cell_type": "code",
   "execution_count": 35,
   "metadata": {},
   "outputs": [],
   "source": [
    "file_list = ['kube_ecosystem_glide_yaml.json', 'kube_ecosystem_godeps.json', 'kube_ecosystem_gopkg_toml.json']"
   ]
  },
  {
   "cell_type": "code",
   "execution_count": 38,
   "metadata": {},
   "outputs": [
    {
     "name": "stdout",
     "output_type": "stream",
     "text": [
      "kube_ecosystem_glide_yaml.json | 564\n",
      "kube_ecosystem_godeps.json | 6894\n",
      "kube_ecosystem_gopkg_toml.json | 265\n"
     ]
    }
   ],
   "source": [
    "for fname in file_list:\n",
    "    with open(fname) as f:\n",
    "        jc = json.load(f)\n",
    "    print(fname, \"|\", len(jc))"
   ]
  },
  {
   "cell_type": "code",
   "execution_count": 39,
   "metadata": {},
   "outputs": [],
   "source": [
    "for fname in file_list:\n",
    "    schema_rep = []\n",
    "    with open(fname) as f:\n",
    "        file_content = json.load(f)\n",
    "        for tuple_ in file_content:\n",
    "            schema_rep.append({\n",
    "                \"id\": tuple_[0],\n",
    "                \"repo_name\": tuple_[1],\n",
    "                \"path\": tuple_[2],\n",
    "                \"content\": tuple_[3]\n",
    "            })\n",
    "        with open(\"schema\" + fname, 'w') as o:\n",
    "            o.write(json.dumps(schema_rep))"
   ]
  }
 ],
 "metadata": {
  "kernelspec": {
   "display_name": "Python 3",
   "language": "python",
   "name": "python3"
  },
  "language_info": {
   "codemirror_mode": {
    "name": "ipython",
    "version": 3
   },
   "file_extension": ".py",
   "mimetype": "text/x-python",
   "name": "python",
   "nbconvert_exporter": "python",
   "pygments_lexer": "ipython3",
   "version": "3.6.5"
  }
 },
 "nbformat": 4,
 "nbformat_minor": 2
}
