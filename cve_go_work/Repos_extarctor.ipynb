{
 "cells": [
  {
   "cell_type": "code",
   "execution_count": 1,
   "metadata": {},
   "outputs": [],
   "source": [
    "import json"
   ]
  },
  {
   "cell_type": "code",
   "execution_count": 2,
   "metadata": {},
   "outputs": [],
   "source": [
    "repos_links = json.load(open(\"download_links.json\",\"r\"))"
   ]
  },
  {
   "cell_type": "code",
   "execution_count": 4,
   "metadata": {},
   "outputs": [],
   "source": [
    "# repos_links"
   ]
  },
  {
   "cell_type": "code",
   "execution_count": 5,
   "metadata": {},
   "outputs": [],
   "source": [
    "def json_to_list(data):\n",
    "    lst = []\n",
    "    for key in data.keys():\n",
    "        lst = lst + data[key].replace(\",\",\"\").split()\n",
    "    return list(set(lst))"
   ]
  },
  {
   "cell_type": "code",
   "execution_count": 6,
   "metadata": {
    "scrolled": true
   },
   "outputs": [],
   "source": [
    "json_list = json_to_list(repos_links)"
   ]
  },
  {
   "cell_type": "code",
   "execution_count": 9,
   "metadata": {},
   "outputs": [],
   "source": [
    "import pickle\n",
    "pickle.dump(json_list,open(\"repos_list.pkl\",\"wb\"))"
   ]
  },
  {
   "cell_type": "code",
   "execution_count": null,
   "metadata": {},
   "outputs": [],
   "source": []
  },
  {
   "cell_type": "markdown",
   "metadata": {},
   "source": [
    "# Extract Data From GitHub"
   ]
  },
  {
   "cell_type": "code",
   "execution_count": 1,
   "metadata": {},
   "outputs": [],
   "source": [
    "from google.cloud import bigquery"
   ]
  },
  {
   "cell_type": "code",
   "execution_count": 2,
   "metadata": {},
   "outputs": [],
   "source": [
    "client = bigquery.Client()"
   ]
  },
  {
   "cell_type": "code",
   "execution_count": 12,
   "metadata": {},
   "outputs": [],
   "source": [
    "# QUERY = \"show --schema --format=prettyjson githubarchive:day.20160601 > /tmp/Bqschema.json\"\n",
    "QUERY = (\"SELECT * FROM `githubarchive:day.20160601` LIMIT 100\")"
   ]
  },
  {
   "cell_type": "code",
   "execution_count": 13,
   "metadata": {},
   "outputs": [],
   "source": [
    "query_job = client.query(QUERY)"
   ]
  },
  {
   "cell_type": "code",
   "execution_count": 5,
   "metadata": {},
   "outputs": [
    {
     "data": {
      "text/plain": [
       "google.cloud.bigquery.job.QueryJob"
      ]
     },
     "execution_count": 5,
     "metadata": {},
     "output_type": "execute_result"
    }
   ],
   "source": [
    "type(query_job)"
   ]
  },
  {
   "cell_type": "code",
   "execution_count": 14,
   "metadata": {},
   "outputs": [
    {
     "ename": "BadRequest",
     "evalue": "400 GET https://www.googleapis.com/bigquery/v2/projects/innate-star-158312/queries/9fb4772c-7df6-4b88-82ee-f4b9e6a41fa2?maxResults=0&location=US: Project name needs to be separated by dot from dataset name, not by colon in table name \"githubarchive:day.20160601\".",
     "output_type": "error",
     "traceback": [
      "\u001b[0;31m---------------------------------------------------------------------------\u001b[0m",
      "\u001b[0;31mBadRequest\u001b[0m                                Traceback (most recent call last)",
      "\u001b[0;32m<ipython-input-14-195241bf1006>\u001b[0m in \u001b[0;36m<module>\u001b[0;34m\u001b[0m\n\u001b[0;32m----> 1\u001b[0;31m \u001b[0mrows\u001b[0m \u001b[0;34m=\u001b[0m \u001b[0mquery_job\u001b[0m\u001b[0;34m.\u001b[0m\u001b[0mresult\u001b[0m\u001b[0;34m(\u001b[0m\u001b[0;34m)\u001b[0m\u001b[0;34m\u001b[0m\u001b[0m\n\u001b[0m",
      "\u001b[0;32m~/anaconda3/envs/CVE/lib/python3.6/site-packages/google/cloud/bigquery/job.py\u001b[0m in \u001b[0;36mresult\u001b[0;34m(self, timeout, retry)\u001b[0m\n\u001b[1;32m   2683\u001b[0m             \u001b[0;32mnot\u001b[0m \u001b[0mcomplete\u001b[0m \u001b[0;32min\u001b[0m \u001b[0mthe\u001b[0m \u001b[0mgiven\u001b[0m \u001b[0mtimeout\u001b[0m\u001b[0;34m.\u001b[0m\u001b[0;34m\u001b[0m\u001b[0m\n\u001b[1;32m   2684\u001b[0m         \"\"\"\n\u001b[0;32m-> 2685\u001b[0;31m         \u001b[0msuper\u001b[0m\u001b[0;34m(\u001b[0m\u001b[0mQueryJob\u001b[0m\u001b[0;34m,\u001b[0m \u001b[0mself\u001b[0m\u001b[0;34m)\u001b[0m\u001b[0;34m.\u001b[0m\u001b[0mresult\u001b[0m\u001b[0;34m(\u001b[0m\u001b[0mtimeout\u001b[0m\u001b[0;34m=\u001b[0m\u001b[0mtimeout\u001b[0m\u001b[0;34m)\u001b[0m\u001b[0;34m\u001b[0m\u001b[0m\n\u001b[0m\u001b[1;32m   2686\u001b[0m         \u001b[0;31m# Return an iterator instead of returning the job.\u001b[0m\u001b[0;34m\u001b[0m\u001b[0;34m\u001b[0m\u001b[0m\n\u001b[1;32m   2687\u001b[0m         \u001b[0;32mif\u001b[0m \u001b[0;32mnot\u001b[0m \u001b[0mself\u001b[0m\u001b[0;34m.\u001b[0m\u001b[0m_query_results\u001b[0m\u001b[0;34m:\u001b[0m\u001b[0;34m\u001b[0m\u001b[0m\n",
      "\u001b[0;32m~/anaconda3/envs/CVE/lib/python3.6/site-packages/google/cloud/bigquery/job.py\u001b[0m in \u001b[0;36mresult\u001b[0;34m(self, timeout)\u001b[0m\n\u001b[1;32m    695\u001b[0m             \u001b[0mself\u001b[0m\u001b[0;34m.\u001b[0m\u001b[0m_begin\u001b[0m\u001b[0;34m(\u001b[0m\u001b[0;34m)\u001b[0m\u001b[0;34m\u001b[0m\u001b[0m\n\u001b[1;32m    696\u001b[0m         \u001b[0;31m# TODO: modify PollingFuture so it can pass a retry argument to done().\u001b[0m\u001b[0;34m\u001b[0m\u001b[0;34m\u001b[0m\u001b[0m\n\u001b[0;32m--> 697\u001b[0;31m         \u001b[0;32mreturn\u001b[0m \u001b[0msuper\u001b[0m\u001b[0;34m(\u001b[0m\u001b[0m_AsyncJob\u001b[0m\u001b[0;34m,\u001b[0m \u001b[0mself\u001b[0m\u001b[0;34m)\u001b[0m\u001b[0;34m.\u001b[0m\u001b[0mresult\u001b[0m\u001b[0;34m(\u001b[0m\u001b[0mtimeout\u001b[0m\u001b[0;34m=\u001b[0m\u001b[0mtimeout\u001b[0m\u001b[0;34m)\u001b[0m\u001b[0;34m\u001b[0m\u001b[0m\n\u001b[0m\u001b[1;32m    698\u001b[0m \u001b[0;34m\u001b[0m\u001b[0m\n\u001b[1;32m    699\u001b[0m     \u001b[0;32mdef\u001b[0m \u001b[0mcancelled\u001b[0m\u001b[0;34m(\u001b[0m\u001b[0mself\u001b[0m\u001b[0;34m)\u001b[0m\u001b[0;34m:\u001b[0m\u001b[0;34m\u001b[0m\u001b[0m\n",
      "\u001b[0;32m~/anaconda3/envs/CVE/lib/python3.6/site-packages/google/api_core/future/polling.py\u001b[0m in \u001b[0;36mresult\u001b[0;34m(self, timeout)\u001b[0m\n\u001b[1;32m    113\u001b[0m                 \u001b[0mthe\u001b[0m \u001b[0mtimeout\u001b[0m \u001b[0;32mis\u001b[0m \u001b[0mreached\u001b[0m \u001b[0mbefore\u001b[0m \u001b[0mthe\u001b[0m \u001b[0moperation\u001b[0m \u001b[0mcompletes\u001b[0m\u001b[0;34m.\u001b[0m\u001b[0;34m\u001b[0m\u001b[0m\n\u001b[1;32m    114\u001b[0m         \"\"\"\n\u001b[0;32m--> 115\u001b[0;31m         \u001b[0mself\u001b[0m\u001b[0;34m.\u001b[0m\u001b[0m_blocking_poll\u001b[0m\u001b[0;34m(\u001b[0m\u001b[0mtimeout\u001b[0m\u001b[0;34m=\u001b[0m\u001b[0mtimeout\u001b[0m\u001b[0;34m)\u001b[0m\u001b[0;34m\u001b[0m\u001b[0m\n\u001b[0m\u001b[1;32m    116\u001b[0m \u001b[0;34m\u001b[0m\u001b[0m\n\u001b[1;32m    117\u001b[0m         \u001b[0;32mif\u001b[0m \u001b[0mself\u001b[0m\u001b[0;34m.\u001b[0m\u001b[0m_exception\u001b[0m \u001b[0;32mis\u001b[0m \u001b[0;32mnot\u001b[0m \u001b[0;32mNone\u001b[0m\u001b[0;34m:\u001b[0m\u001b[0;34m\u001b[0m\u001b[0m\n",
      "\u001b[0;32m~/anaconda3/envs/CVE/lib/python3.6/site-packages/google/cloud/bigquery/job.py\u001b[0m in \u001b[0;36m_blocking_poll\u001b[0;34m(self, timeout)\u001b[0m\n\u001b[1;32m   2657\u001b[0m     \u001b[0;32mdef\u001b[0m \u001b[0m_blocking_poll\u001b[0m\u001b[0;34m(\u001b[0m\u001b[0mself\u001b[0m\u001b[0;34m,\u001b[0m \u001b[0mtimeout\u001b[0m\u001b[0;34m=\u001b[0m\u001b[0;32mNone\u001b[0m\u001b[0;34m)\u001b[0m\u001b[0;34m:\u001b[0m\u001b[0;34m\u001b[0m\u001b[0m\n\u001b[1;32m   2658\u001b[0m         \u001b[0mself\u001b[0m\u001b[0;34m.\u001b[0m\u001b[0m_done_timeout\u001b[0m \u001b[0;34m=\u001b[0m \u001b[0mtimeout\u001b[0m\u001b[0;34m\u001b[0m\u001b[0m\n\u001b[0;32m-> 2659\u001b[0;31m         \u001b[0msuper\u001b[0m\u001b[0;34m(\u001b[0m\u001b[0mQueryJob\u001b[0m\u001b[0;34m,\u001b[0m \u001b[0mself\u001b[0m\u001b[0;34m)\u001b[0m\u001b[0;34m.\u001b[0m\u001b[0m_blocking_poll\u001b[0m\u001b[0;34m(\u001b[0m\u001b[0mtimeout\u001b[0m\u001b[0;34m=\u001b[0m\u001b[0mtimeout\u001b[0m\u001b[0;34m)\u001b[0m\u001b[0;34m\u001b[0m\u001b[0m\n\u001b[0m\u001b[1;32m   2660\u001b[0m \u001b[0;34m\u001b[0m\u001b[0m\n\u001b[1;32m   2661\u001b[0m     \u001b[0;32mdef\u001b[0m \u001b[0mresult\u001b[0m\u001b[0;34m(\u001b[0m\u001b[0mself\u001b[0m\u001b[0;34m,\u001b[0m \u001b[0mtimeout\u001b[0m\u001b[0;34m=\u001b[0m\u001b[0;32mNone\u001b[0m\u001b[0;34m,\u001b[0m \u001b[0mretry\u001b[0m\u001b[0;34m=\u001b[0m\u001b[0mDEFAULT_RETRY\u001b[0m\u001b[0;34m)\u001b[0m\u001b[0;34m:\u001b[0m\u001b[0;34m\u001b[0m\u001b[0m\n",
      "\u001b[0;32m~/anaconda3/envs/CVE/lib/python3.6/site-packages/google/api_core/future/polling.py\u001b[0m in \u001b[0;36m_blocking_poll\u001b[0;34m(self, timeout)\u001b[0m\n\u001b[1;32m     92\u001b[0m \u001b[0;34m\u001b[0m\u001b[0m\n\u001b[1;32m     93\u001b[0m         \u001b[0;32mtry\u001b[0m\u001b[0;34m:\u001b[0m\u001b[0;34m\u001b[0m\u001b[0m\n\u001b[0;32m---> 94\u001b[0;31m             \u001b[0mretry_\u001b[0m\u001b[0;34m(\u001b[0m\u001b[0mself\u001b[0m\u001b[0;34m.\u001b[0m\u001b[0m_done_or_raise\u001b[0m\u001b[0;34m)\u001b[0m\u001b[0;34m(\u001b[0m\u001b[0;34m)\u001b[0m\u001b[0;34m\u001b[0m\u001b[0m\n\u001b[0m\u001b[1;32m     95\u001b[0m         \u001b[0;32mexcept\u001b[0m \u001b[0mexceptions\u001b[0m\u001b[0;34m.\u001b[0m\u001b[0mRetryError\u001b[0m\u001b[0;34m:\u001b[0m\u001b[0;34m\u001b[0m\u001b[0m\n\u001b[1;32m     96\u001b[0m             raise concurrent.futures.TimeoutError(\n",
      "\u001b[0;32m~/anaconda3/envs/CVE/lib/python3.6/site-packages/google/api_core/retry.py\u001b[0m in \u001b[0;36mretry_wrapped_func\u001b[0;34m(*args, **kwargs)\u001b[0m\n\u001b[1;32m    258\u001b[0m                 \u001b[0msleep_generator\u001b[0m\u001b[0;34m,\u001b[0m\u001b[0;34m\u001b[0m\u001b[0m\n\u001b[1;32m    259\u001b[0m                 \u001b[0mself\u001b[0m\u001b[0;34m.\u001b[0m\u001b[0m_deadline\u001b[0m\u001b[0;34m,\u001b[0m\u001b[0;34m\u001b[0m\u001b[0m\n\u001b[0;32m--> 260\u001b[0;31m                 \u001b[0mon_error\u001b[0m\u001b[0;34m=\u001b[0m\u001b[0mon_error\u001b[0m\u001b[0;34m,\u001b[0m\u001b[0;34m\u001b[0m\u001b[0m\n\u001b[0m\u001b[1;32m    261\u001b[0m             )\n\u001b[1;32m    262\u001b[0m \u001b[0;34m\u001b[0m\u001b[0m\n",
      "\u001b[0;32m~/anaconda3/envs/CVE/lib/python3.6/site-packages/google/api_core/retry.py\u001b[0m in \u001b[0;36mretry_target\u001b[0;34m(target, predicate, sleep_generator, deadline, on_error)\u001b[0m\n\u001b[1;32m    175\u001b[0m     \u001b[0;32mfor\u001b[0m \u001b[0msleep\u001b[0m \u001b[0;32min\u001b[0m \u001b[0msleep_generator\u001b[0m\u001b[0;34m:\u001b[0m\u001b[0;34m\u001b[0m\u001b[0m\n\u001b[1;32m    176\u001b[0m         \u001b[0;32mtry\u001b[0m\u001b[0;34m:\u001b[0m\u001b[0;34m\u001b[0m\u001b[0m\n\u001b[0;32m--> 177\u001b[0;31m             \u001b[0;32mreturn\u001b[0m \u001b[0mtarget\u001b[0m\u001b[0;34m(\u001b[0m\u001b[0;34m)\u001b[0m\u001b[0;34m\u001b[0m\u001b[0m\n\u001b[0m\u001b[1;32m    178\u001b[0m \u001b[0;34m\u001b[0m\u001b[0m\n\u001b[1;32m    179\u001b[0m         \u001b[0;31m# pylint: disable=broad-except\u001b[0m\u001b[0;34m\u001b[0m\u001b[0;34m\u001b[0m\u001b[0m\n",
      "\u001b[0;32m~/anaconda3/envs/CVE/lib/python3.6/site-packages/google/api_core/future/polling.py\u001b[0m in \u001b[0;36m_done_or_raise\u001b[0;34m(self)\u001b[0m\n\u001b[1;32m     71\u001b[0m     \u001b[0;32mdef\u001b[0m \u001b[0m_done_or_raise\u001b[0m\u001b[0;34m(\u001b[0m\u001b[0mself\u001b[0m\u001b[0;34m)\u001b[0m\u001b[0;34m:\u001b[0m\u001b[0;34m\u001b[0m\u001b[0m\n\u001b[1;32m     72\u001b[0m         \u001b[0;34m\"\"\"Check if the future is done and raise if it's not.\"\"\"\u001b[0m\u001b[0;34m\u001b[0m\u001b[0m\n\u001b[0;32m---> 73\u001b[0;31m         \u001b[0;32mif\u001b[0m \u001b[0;32mnot\u001b[0m \u001b[0mself\u001b[0m\u001b[0;34m.\u001b[0m\u001b[0mdone\u001b[0m\u001b[0;34m(\u001b[0m\u001b[0;34m)\u001b[0m\u001b[0;34m:\u001b[0m\u001b[0;34m\u001b[0m\u001b[0m\n\u001b[0m\u001b[1;32m     74\u001b[0m             \u001b[0;32mraise\u001b[0m \u001b[0m_OperationNotComplete\u001b[0m\u001b[0;34m(\u001b[0m\u001b[0;34m)\u001b[0m\u001b[0;34m\u001b[0m\u001b[0m\n\u001b[1;32m     75\u001b[0m \u001b[0;34m\u001b[0m\u001b[0m\n",
      "\u001b[0;32m~/anaconda3/envs/CVE/lib/python3.6/site-packages/google/cloud/bigquery/job.py\u001b[0m in \u001b[0;36mdone\u001b[0;34m(self, retry)\u001b[0m\n\u001b[1;32m   2645\u001b[0m                 \u001b[0mself\u001b[0m\u001b[0;34m.\u001b[0m\u001b[0mjob_id\u001b[0m\u001b[0;34m,\u001b[0m \u001b[0mretry\u001b[0m\u001b[0;34m,\u001b[0m\u001b[0;34m\u001b[0m\u001b[0m\n\u001b[1;32m   2646\u001b[0m                 \u001b[0mproject\u001b[0m\u001b[0;34m=\u001b[0m\u001b[0mself\u001b[0m\u001b[0;34m.\u001b[0m\u001b[0mproject\u001b[0m\u001b[0;34m,\u001b[0m \u001b[0mtimeout_ms\u001b[0m\u001b[0;34m=\u001b[0m\u001b[0mtimeout_ms\u001b[0m\u001b[0;34m,\u001b[0m\u001b[0;34m\u001b[0m\u001b[0m\n\u001b[0;32m-> 2647\u001b[0;31m                 location=self.location)\n\u001b[0m\u001b[1;32m   2648\u001b[0m \u001b[0;34m\u001b[0m\u001b[0m\n\u001b[1;32m   2649\u001b[0m             \u001b[0;31m# Only reload the job once we know the query is complete.\u001b[0m\u001b[0;34m\u001b[0m\u001b[0;34m\u001b[0m\u001b[0m\n",
      "\u001b[0;32m~/anaconda3/envs/CVE/lib/python3.6/site-packages/google/cloud/bigquery/client.py\u001b[0m in \u001b[0;36m_get_query_results\u001b[0;34m(self, job_id, retry, project, timeout_ms, location)\u001b[0m\n\u001b[1;32m    582\u001b[0m         \u001b[0;31m# QueryJob.result()). So we don't need to poll here.\u001b[0m\u001b[0;34m\u001b[0m\u001b[0;34m\u001b[0m\u001b[0m\n\u001b[1;32m    583\u001b[0m         resource = self._call_api(\n\u001b[0;32m--> 584\u001b[0;31m             retry, method='GET', path=path, query_params=extra_params)\n\u001b[0m\u001b[1;32m    585\u001b[0m         \u001b[0;32mreturn\u001b[0m \u001b[0m_QueryResults\u001b[0m\u001b[0;34m.\u001b[0m\u001b[0mfrom_api_repr\u001b[0m\u001b[0;34m(\u001b[0m\u001b[0mresource\u001b[0m\u001b[0;34m)\u001b[0m\u001b[0;34m\u001b[0m\u001b[0m\n\u001b[1;32m    586\u001b[0m \u001b[0;34m\u001b[0m\u001b[0m\n",
      "\u001b[0;32m~/anaconda3/envs/CVE/lib/python3.6/site-packages/google/cloud/bigquery/client.py\u001b[0m in \u001b[0;36m_call_api\u001b[0;34m(self, retry, **kwargs)\u001b[0m\n\u001b[1;32m    334\u001b[0m         \u001b[0;32mif\u001b[0m \u001b[0mretry\u001b[0m\u001b[0;34m:\u001b[0m\u001b[0;34m\u001b[0m\u001b[0m\n\u001b[1;32m    335\u001b[0m             \u001b[0mcall\u001b[0m \u001b[0;34m=\u001b[0m \u001b[0mretry\u001b[0m\u001b[0;34m(\u001b[0m\u001b[0mcall\u001b[0m\u001b[0;34m)\u001b[0m\u001b[0;34m\u001b[0m\u001b[0m\n\u001b[0;32m--> 336\u001b[0;31m         \u001b[0;32mreturn\u001b[0m \u001b[0mcall\u001b[0m\u001b[0;34m(\u001b[0m\u001b[0;34m)\u001b[0m\u001b[0;34m\u001b[0m\u001b[0m\n\u001b[0m\u001b[1;32m    337\u001b[0m \u001b[0;34m\u001b[0m\u001b[0m\n\u001b[1;32m    338\u001b[0m     \u001b[0;32mdef\u001b[0m \u001b[0mget_dataset\u001b[0m\u001b[0;34m(\u001b[0m\u001b[0mself\u001b[0m\u001b[0;34m,\u001b[0m \u001b[0mdataset_ref\u001b[0m\u001b[0;34m,\u001b[0m \u001b[0mretry\u001b[0m\u001b[0;34m=\u001b[0m\u001b[0mDEFAULT_RETRY\u001b[0m\u001b[0;34m)\u001b[0m\u001b[0;34m:\u001b[0m\u001b[0;34m\u001b[0m\u001b[0m\n",
      "\u001b[0;32m~/anaconda3/envs/CVE/lib/python3.6/site-packages/google/api_core/retry.py\u001b[0m in \u001b[0;36mretry_wrapped_func\u001b[0;34m(*args, **kwargs)\u001b[0m\n\u001b[1;32m    258\u001b[0m                 \u001b[0msleep_generator\u001b[0m\u001b[0;34m,\u001b[0m\u001b[0;34m\u001b[0m\u001b[0m\n\u001b[1;32m    259\u001b[0m                 \u001b[0mself\u001b[0m\u001b[0;34m.\u001b[0m\u001b[0m_deadline\u001b[0m\u001b[0;34m,\u001b[0m\u001b[0;34m\u001b[0m\u001b[0m\n\u001b[0;32m--> 260\u001b[0;31m                 \u001b[0mon_error\u001b[0m\u001b[0;34m=\u001b[0m\u001b[0mon_error\u001b[0m\u001b[0;34m,\u001b[0m\u001b[0;34m\u001b[0m\u001b[0m\n\u001b[0m\u001b[1;32m    261\u001b[0m             )\n\u001b[1;32m    262\u001b[0m \u001b[0;34m\u001b[0m\u001b[0m\n",
      "\u001b[0;32m~/anaconda3/envs/CVE/lib/python3.6/site-packages/google/api_core/retry.py\u001b[0m in \u001b[0;36mretry_target\u001b[0;34m(target, predicate, sleep_generator, deadline, on_error)\u001b[0m\n\u001b[1;32m    175\u001b[0m     \u001b[0;32mfor\u001b[0m \u001b[0msleep\u001b[0m \u001b[0;32min\u001b[0m \u001b[0msleep_generator\u001b[0m\u001b[0;34m:\u001b[0m\u001b[0;34m\u001b[0m\u001b[0m\n\u001b[1;32m    176\u001b[0m         \u001b[0;32mtry\u001b[0m\u001b[0;34m:\u001b[0m\u001b[0;34m\u001b[0m\u001b[0m\n\u001b[0;32m--> 177\u001b[0;31m             \u001b[0;32mreturn\u001b[0m \u001b[0mtarget\u001b[0m\u001b[0;34m(\u001b[0m\u001b[0;34m)\u001b[0m\u001b[0;34m\u001b[0m\u001b[0m\n\u001b[0m\u001b[1;32m    178\u001b[0m \u001b[0;34m\u001b[0m\u001b[0m\n\u001b[1;32m    179\u001b[0m         \u001b[0;31m# pylint: disable=broad-except\u001b[0m\u001b[0;34m\u001b[0m\u001b[0;34m\u001b[0m\u001b[0m\n",
      "\u001b[0;32m~/anaconda3/envs/CVE/lib/python3.6/site-packages/google/cloud/_http.py\u001b[0m in \u001b[0;36mapi_request\u001b[0;34m(self, method, path, query_params, data, content_type, headers, api_base_url, api_version, expect_json, _target_object)\u001b[0m\n\u001b[1;32m    291\u001b[0m \u001b[0;34m\u001b[0m\u001b[0m\n\u001b[1;32m    292\u001b[0m         \u001b[0;32mif\u001b[0m \u001b[0;32mnot\u001b[0m \u001b[0;36m200\u001b[0m \u001b[0;34m<=\u001b[0m \u001b[0mresponse\u001b[0m\u001b[0;34m.\u001b[0m\u001b[0mstatus_code\u001b[0m \u001b[0;34m<\u001b[0m \u001b[0;36m300\u001b[0m\u001b[0;34m:\u001b[0m\u001b[0;34m\u001b[0m\u001b[0m\n\u001b[0;32m--> 293\u001b[0;31m             \u001b[0;32mraise\u001b[0m \u001b[0mexceptions\u001b[0m\u001b[0;34m.\u001b[0m\u001b[0mfrom_http_response\u001b[0m\u001b[0;34m(\u001b[0m\u001b[0mresponse\u001b[0m\u001b[0;34m)\u001b[0m\u001b[0;34m\u001b[0m\u001b[0m\n\u001b[0m\u001b[1;32m    294\u001b[0m \u001b[0;34m\u001b[0m\u001b[0m\n\u001b[1;32m    295\u001b[0m         \u001b[0;32mif\u001b[0m \u001b[0mexpect_json\u001b[0m \u001b[0;32mand\u001b[0m \u001b[0mresponse\u001b[0m\u001b[0;34m.\u001b[0m\u001b[0mcontent\u001b[0m\u001b[0;34m:\u001b[0m\u001b[0;34m\u001b[0m\u001b[0m\n",
      "\u001b[0;31mBadRequest\u001b[0m: 400 GET https://www.googleapis.com/bigquery/v2/projects/innate-star-158312/queries/9fb4772c-7df6-4b88-82ee-f4b9e6a41fa2?maxResults=0&location=US: Project name needs to be separated by dot from dataset name, not by colon in table name \"githubarchive:day.20160601\"."
     ]
    }
   ],
   "source": [
    "rows = query_job.result()"
   ]
  },
  {
   "cell_type": "code",
   "execution_count": 15,
   "metadata": {},
   "outputs": [],
   "source": [
    "import json"
   ]
  },
  {
   "cell_type": "code",
   "execution_count": 19,
   "metadata": {
    "scrolled": false
   },
   "outputs": [
    {
     "ename": "NameError",
     "evalue": "name 'false' is not defined",
     "output_type": "error",
     "traceback": [
      "\u001b[0;31m---------------------------------------------------------------------------\u001b[0m",
      "\u001b[0;31mNameError\u001b[0m                                 Traceback (most recent call last)",
      "\u001b[0;32m<ipython-input-19-79e75435b152>\u001b[0m in \u001b[0;36m<module>\u001b[0;34m\u001b[0m\n\u001b[0;32m----> 1\u001b[0;31m \u001b[0mjson\u001b[0m\u001b[0;34m.\u001b[0m\u001b[0mdumps\u001b[0m\u001b[0;34m(\u001b[0m\u001b[0;34m[\u001b[0m\u001b[0;34m{\u001b[0m\u001b[0;34m\"forkee\"\u001b[0m\u001b[0;34m:\u001b[0m\u001b[0;34m{\u001b[0m\u001b[0;34m\"id\"\u001b[0m\u001b[0;34m:\u001b[0m\u001b[0;36m60141133\u001b[0m\u001b[0;34m,\u001b[0m\u001b[0;34m\"name\"\u001b[0m\u001b[0;34m:\u001b[0m\u001b[0;34m\"hackUtils\"\u001b[0m\u001b[0;34m,\u001b[0m\u001b[0;34m\"full_name\"\u001b[0m\u001b[0;34m:\u001b[0m\u001b[0;34m\"aa2288207/hackUtils\"\u001b[0m\u001b[0;34m,\u001b[0m\u001b[0;34m\"owner\"\u001b[0m\u001b[0;34m:\u001b[0m\u001b[0;34m{\u001b[0m\u001b[0;34m\"login\"\u001b[0m\u001b[0;34m:\u001b[0m\u001b[0;34m\"aa2288207\"\u001b[0m\u001b[0;34m,\u001b[0m\u001b[0;34m\"id\"\u001b[0m\u001b[0;34m:\u001b[0m\u001b[0;36m9385085\u001b[0m\u001b[0;34m,\u001b[0m\u001b[0;34m\"avatar_url\"\u001b[0m\u001b[0;34m:\u001b[0m\u001b[0;34m\"https://avatars.githubusercontent.com/u/9385085?v=3\"\u001b[0m\u001b[0;34m,\u001b[0m\u001b[0;34m\"gravatar_id\"\u001b[0m\u001b[0;34m:\u001b[0m\u001b[0;34m\"\"\u001b[0m\u001b[0;34m,\u001b[0m\u001b[0;34m\"url\"\u001b[0m\u001b[0;34m:\u001b[0m\u001b[0;34m\"https://api.github.com/users/aa2288207\"\u001b[0m\u001b[0;34m,\u001b[0m\u001b[0;34m\"html_url\"\u001b[0m\u001b[0;34m:\u001b[0m\u001b[0;34m\"https://github.com/aa2288207\"\u001b[0m\u001b[0;34m,\u001b[0m\u001b[0;34m\"followers_url\"\u001b[0m\u001b[0;34m:\u001b[0m\u001b[0;34m\"https://api.github.com/users/aa2288207/followers\"\u001b[0m\u001b[0;34m,\u001b[0m\u001b[0;34m\"following_url\"\u001b[0m\u001b[0;34m:\u001b[0m\u001b[0;34m\"https://api.github.com/users/aa2288207/following{/other_user}\"\u001b[0m\u001b[0;34m,\u001b[0m\u001b[0;34m\"gists_url\"\u001b[0m\u001b[0;34m:\u001b[0m\u001b[0;34m\"https://api.github.com/users/aa2288207/gists{/gist_id}\"\u001b[0m\u001b[0;34m,\u001b[0m\u001b[0;34m\"starred_url\"\u001b[0m\u001b[0;34m:\u001b[0m\u001b[0;34m\"https://api.github.com/users/aa2288207/starred{/owner}{/repo}\"\u001b[0m\u001b[0;34m,\u001b[0m\u001b[0;34m\"subscriptions_url\"\u001b[0m\u001b[0;34m:\u001b[0m\u001b[0;34m\"https://api.github.com/users/aa2288207/subscriptions\"\u001b[0m\u001b[0;34m,\u001b[0m\u001b[0;34m\"organizations_url\"\u001b[0m\u001b[0;34m:\u001b[0m\u001b[0;34m\"https://api.github.com/users/aa2288207/orgs\"\u001b[0m\u001b[0;34m,\u001b[0m\u001b[0;34m\"repos_url\"\u001b[0m\u001b[0;34m:\u001b[0m\u001b[0;34m\"https://api.github.com/users/aa2288207/repos\"\u001b[0m\u001b[0;34m,\u001b[0m\u001b[0;34m\"events_url\"\u001b[0m\u001b[0;34m:\u001b[0m\u001b[0;34m\"https://api.github.com/users/aa2288207/events{/privacy}\"\u001b[0m\u001b[0;34m,\u001b[0m\u001b[0;34m\"received_events_url\"\u001b[0m\u001b[0;34m:\u001b[0m\u001b[0;34m\"https://api.github.com/users/aa2288207/received_events\"\u001b[0m\u001b[0;34m,\u001b[0m\u001b[0;34m\"type\"\u001b[0m\u001b[0;34m:\u001b[0m\u001b[0;34m\"User\"\u001b[0m\u001b[0;34m,\u001b[0m\u001b[0;34m\"site_admin\"\u001b[0m\u001b[0;34m:\u001b[0m\u001b[0mfalse\u001b[0m\u001b[0;34m}\u001b[0m\u001b[0;34m,\u001b[0m\u001b[0;34m\"private\"\u001b[0m\u001b[0;34m:\u001b[0m\u001b[0mfalse\u001b[0m\u001b[0;34m,\u001b[0m\u001b[0;34m\"html_url\"\u001b[0m\u001b[0;34m:\u001b[0m\u001b[0;34m\"https://github.com/aa2288207/hackUtils\"\u001b[0m\u001b[0;34m,\u001b[0m\u001b[0;34m\"description\"\u001b[0m\u001b[0;34m:\u001b[0m\u001b[0;34m\"It is a hack tool kit for pentest and web security research.\"\u001b[0m\u001b[0;34m,\u001b[0m\u001b[0;34m\"fork\"\u001b[0m\u001b[0;34m:\u001b[0m\u001b[0mtrue\u001b[0m\u001b[0;34m,\u001b[0m\u001b[0;34m\"url\"\u001b[0m\u001b[0;34m:\u001b[0m\u001b[0;34m\"https://api.github.com/repos/aa2288207/hackUtils\"\u001b[0m\u001b[0;34m,\u001b[0m\u001b[0;34m\"forks_url\"\u001b[0m\u001b[0;34m:\u001b[0m\u001b[0;34m\"https://api.github.com/repos/aa2288207/hackUtils/forks\"\u001b[0m\u001b[0;34m,\u001b[0m\u001b[0;34m\"keys_url\"\u001b[0m\u001b[0;34m:\u001b[0m\u001b[0;34m\"https://api.github.com/repos/aa2288207/hackUtils/keys{/key_id}\"\u001b[0m\u001b[0;34m,\u001b[0m\u001b[0;34m\"collaborators_url\"\u001b[0m\u001b[0;34m:\u001b[0m\u001b[0;34m\"https://api.github.com/repos/aa2288207/hackUtils/collaborators{/collaborator}\"\u001b[0m\u001b[0;34m,\u001b[0m\u001b[0;34m\"teams_url\"\u001b[0m\u001b[0;34m:\u001b[0m\u001b[0;34m\"https://api.github.com/repos/aa2288207/hackUtils/teams\"\u001b[0m\u001b[0;34m,\u001b[0m\u001b[0;34m\"hooks_url\"\u001b[0m\u001b[0;34m:\u001b[0m\u001b[0;34m\"https://api.github.com/repos/aa2288207/hackUtils/hooks\"\u001b[0m\u001b[0;34m,\u001b[0m\u001b[0;34m\"issue_events_url\"\u001b[0m\u001b[0;34m:\u001b[0m\u001b[0;34m\"https://api.github.com/repos/aa2288207/hackUtils/issues/events{/number}\"\u001b[0m\u001b[0;34m,\u001b[0m\u001b[0;34m\"events_url\"\u001b[0m\u001b[0;34m:\u001b[0m\u001b[0;34m\"https://api.github.com/repos/aa2288207/hackUtils/events\"\u001b[0m\u001b[0;34m,\u001b[0m\u001b[0;34m\"assignees_url\"\u001b[0m\u001b[0;34m:\u001b[0m\u001b[0;34m\"https://api.github.com/repos/aa2288207/hackUtils/assignees{/user}\"\u001b[0m\u001b[0;34m,\u001b[0m\u001b[0;34m\"branches_url\"\u001b[0m\u001b[0;34m:\u001b[0m\u001b[0;34m\"https://api.github.com/repos/aa2288207/hackUtils/branches{/branch}\"\u001b[0m\u001b[0;34m,\u001b[0m\u001b[0;34m\"tags_url\"\u001b[0m\u001b[0;34m:\u001b[0m\u001b[0;34m\"https://api.github.com/repos/aa2288207/hackUtils/tags\"\u001b[0m\u001b[0;34m,\u001b[0m\u001b[0;34m\"blobs_url\"\u001b[0m\u001b[0;34m:\u001b[0m\u001b[0;34m\"https://api.github.com/repos/aa2288207/hackUtils/git/blobs{/sha}\"\u001b[0m\u001b[0;34m,\u001b[0m\u001b[0;34m\"git_tags_url\"\u001b[0m\u001b[0;34m:\u001b[0m\u001b[0;34m\"https://api.github.com/repos/aa2288207/hackUtils/git/tags{/sha}\"\u001b[0m\u001b[0;34m,\u001b[0m\u001b[0;34m\"git_refs_url\"\u001b[0m\u001b[0;34m:\u001b[0m\u001b[0;34m\"https://api.github.com/repos/aa2288207/hackUtils/git/refs{/sha}\"\u001b[0m\u001b[0;34m,\u001b[0m\u001b[0;34m\"trees_url\"\u001b[0m\u001b[0;34m:\u001b[0m\u001b[0;34m\"https://api.github.com/repos/aa2288207/hackUtils/git/trees{/sha}\"\u001b[0m\u001b[0;34m,\u001b[0m\u001b[0;34m\"statuses_url\"\u001b[0m\u001b[0;34m:\u001b[0m\u001b[0;34m\"https://api.github.com/repos/aa2288207/hackUtils/statuses/{sha}\"\u001b[0m\u001b[0;34m,\u001b[0m\u001b[0;34m\"languages_url\"\u001b[0m\u001b[0;34m:\u001b[0m\u001b[0;34m\"https://api.github.com/repos/aa2288207/hackUtils/languages\"\u001b[0m\u001b[0;34m,\u001b[0m\u001b[0;34m\"stargazers_url\"\u001b[0m\u001b[0;34m:\u001b[0m\u001b[0;34m\"https://api.github.com/repos/aa2288207/hackUtils/stargazers\"\u001b[0m\u001b[0;34m,\u001b[0m\u001b[0;34m\"contributors_url\"\u001b[0m\u001b[0;34m:\u001b[0m\u001b[0;34m\"https://api.github.com/repos/aa2288207/hackUtils/contributors\"\u001b[0m\u001b[0;34m,\u001b[0m\u001b[0;34m\"subscribers_url\"\u001b[0m\u001b[0;34m:\u001b[0m\u001b[0;34m\"https://api.github.com/repos/aa2288207/hackUtils/subscribers\"\u001b[0m\u001b[0;34m,\u001b[0m\u001b[0;34m\"subscription_url\"\u001b[0m\u001b[0;34m:\u001b[0m\u001b[0;34m\"https://api.github.com/repos/aa2288207/hackUtils/subscription\"\u001b[0m\u001b[0;34m,\u001b[0m\u001b[0;34m\"commits_url\"\u001b[0m\u001b[0;34m:\u001b[0m\u001b[0;34m\"https://api.github.com/repos/aa2288207/hackUtils/commits{/sha}\"\u001b[0m\u001b[0;34m,\u001b[0m\u001b[0;34m\"git_commits_url\"\u001b[0m\u001b[0;34m:\u001b[0m\u001b[0;34m\"https://api.github.com/repos/aa2288207/hackUtils/git/commits{/sha}\"\u001b[0m\u001b[0;34m,\u001b[0m\u001b[0;34m\"comments_url\"\u001b[0m\u001b[0;34m:\u001b[0m\u001b[0;34m\"https://api.github.com/repos/aa2288207/hackUtils/comments{/number}\"\u001b[0m\u001b[0;34m,\u001b[0m\u001b[0;34m\"issue_comment_url\"\u001b[0m\u001b[0;34m:\u001b[0m\u001b[0;34m\"https://api.github.com/repos/aa2288207/hackUtils/issues/comments{/number}\"\u001b[0m\u001b[0;34m,\u001b[0m\u001b[0;34m\"contents_url\"\u001b[0m\u001b[0;34m:\u001b[0m\u001b[0;34m\"https://api.github.com/repos/aa2288207/hackUtils/contents/{+path}\"\u001b[0m\u001b[0;34m,\u001b[0m\u001b[0;34m\"compare_url\"\u001b[0m\u001b[0;34m:\u001b[0m\u001b[0;34m\"https://api.github.com/repos/aa2288207/hackUtils/compare/{base}...{head}\"\u001b[0m\u001b[0;34m,\u001b[0m\u001b[0;34m\"merges_url\"\u001b[0m\u001b[0;34m:\u001b[0m\u001b[0;34m\"https://api.github.com/repos/aa2288207/hackUtils/merges\"\u001b[0m\u001b[0;34m,\u001b[0m\u001b[0;34m\"archive_url\"\u001b[0m\u001b[0;34m:\u001b[0m\u001b[0;34m\"https://api.github.com/repos/aa2288207/hackUtils/{archive_format}{/ref}\"\u001b[0m\u001b[0;34m,\u001b[0m\u001b[0;34m\"downloads_url\"\u001b[0m\u001b[0;34m:\u001b[0m\u001b[0;34m\"https://api.github.com/repos/aa2288207/hackUtils/downloads\"\u001b[0m\u001b[0;34m,\u001b[0m\u001b[0;34m\"issues_url\"\u001b[0m\u001b[0;34m:\u001b[0m\u001b[0;34m\"https://api.github.com/repos/aa2288207/hackUtils/issues{/number}\"\u001b[0m\u001b[0;34m,\u001b[0m\u001b[0;34m\"pulls_url\"\u001b[0m\u001b[0;34m:\u001b[0m\u001b[0;34m\"https://api.github.com/repos/aa2288207/hackUtils/pulls{/number}\"\u001b[0m\u001b[0;34m,\u001b[0m\u001b[0;34m\"milestones_url\"\u001b[0m\u001b[0;34m:\u001b[0m\u001b[0;34m\"https://api.github.com/repos/aa2288207/hackUtils/milestones{/number}\"\u001b[0m\u001b[0;34m,\u001b[0m\u001b[0;34m\"notifications_url\"\u001b[0m\u001b[0;34m:\u001b[0m\u001b[0;34m\"https://api.github.com/repos/aa2288207/hackUtils/notifications{?since,all,participating}\"\u001b[0m\u001b[0;34m,\u001b[0m\u001b[0;34m\"labels_url\"\u001b[0m\u001b[0;34m:\u001b[0m\u001b[0;34m\"https://api.github.com/repos/aa2288207/hackUtils/labels{/name}\"\u001b[0m\u001b[0;34m,\u001b[0m\u001b[0;34m\"releases_url\"\u001b[0m\u001b[0;34m:\u001b[0m\u001b[0;34m\"https://api.github.com/repos/aa2288207/hackUtils/releases{/id}\"\u001b[0m\u001b[0;34m,\u001b[0m\u001b[0;34m\"deployments_url\"\u001b[0m\u001b[0;34m:\u001b[0m\u001b[0;34m\"https://api.github.com/repos/aa2288207/hackUtils/deployments\"\u001b[0m\u001b[0;34m,\u001b[0m\u001b[0;34m\"created_at\"\u001b[0m\u001b[0;34m:\u001b[0m\u001b[0;34m\"2016-06-01T03:02:20Z\"\u001b[0m\u001b[0;34m,\u001b[0m\u001b[0;34m\"updated_at\"\u001b[0m\u001b[0;34m:\u001b[0m\u001b[0;34m\"2016-05-26T06:28:09Z\"\u001b[0m\u001b[0;34m,\u001b[0m\u001b[0;34m\"pushed_at\"\u001b[0m\u001b[0;34m:\u001b[0m\u001b[0;34m\"2016-05-09T11:59:41Z\"\u001b[0m\u001b[0;34m,\u001b[0m\u001b[0;34m\"git_url\"\u001b[0m\u001b[0;34m:\u001b[0m\u001b[0;34m\"git://github.com/aa2288207/hackUtils.git\"\u001b[0m\u001b[0;34m,\u001b[0m\u001b[0;34m\"ssh_url\"\u001b[0m\u001b[0;34m:\u001b[0m\u001b[0;34m\"git@github.com:aa2288207/hackUtils.git\"\u001b[0m\u001b[0;34m,\u001b[0m\u001b[0;34m\"clone_url\"\u001b[0m\u001b[0;34m:\u001b[0m\u001b[0;34m\"https://github.com/aa2288207/hackUtils.git\"\u001b[0m\u001b[0;34m,\u001b[0m\u001b[0;34m\"svn_url\"\u001b[0m\u001b[0;34m:\u001b[0m\u001b[0;34m\"https://github.com/aa2288207/hackUtils\"\u001b[0m\u001b[0;34m,\u001b[0m\u001b[0;34m\"homepage\"\u001b[0m\u001b[0;34m:\u001b[0m\u001b[0;34m\"\"\u001b[0m\u001b[0;34m,\u001b[0m\u001b[0;34m\"size\"\u001b[0m\u001b[0;34m:\u001b[0m\u001b[0;36m161\u001b[0m\u001b[0;34m,\u001b[0m\u001b[0;34m\"stargazers_count\"\u001b[0m\u001b[0;34m:\u001b[0m\u001b[0;36m0\u001b[0m\u001b[0;34m,\u001b[0m\u001b[0;34m\"watchers_count\"\u001b[0m\u001b[0;34m:\u001b[0m\u001b[0;36m0\u001b[0m\u001b[0;34m,\u001b[0m\u001b[0;34m\"language\"\u001b[0m\u001b[0;34m:\u001b[0m\u001b[0mnull\u001b[0m\u001b[0;34m,\u001b[0m\u001b[0;34m\"has_issues\"\u001b[0m\u001b[0;34m:\u001b[0m\u001b[0mfalse\u001b[0m\u001b[0;34m,\u001b[0m\u001b[0;34m\"has_downloads\"\u001b[0m\u001b[0;34m:\u001b[0m\u001b[0mtrue\u001b[0m\u001b[0;34m,\u001b[0m\u001b[0;34m\"has_wiki\"\u001b[0m\u001b[0;34m:\u001b[0m\u001b[0mtrue\u001b[0m\u001b[0;34m,\u001b[0m\u001b[0;34m\"has_pages\"\u001b[0m\u001b[0;34m:\u001b[0m\u001b[0mfalse\u001b[0m\u001b[0;34m,\u001b[0m\u001b[0;34m\"forks_count\"\u001b[0m\u001b[0;34m:\u001b[0m\u001b[0;36m0\u001b[0m\u001b[0;34m,\u001b[0m\u001b[0;34m\"mirror_url\"\u001b[0m\u001b[0;34m:\u001b[0m\u001b[0mnull\u001b[0m\u001b[0;34m,\u001b[0m\u001b[0;34m\"open_issues_count\"\u001b[0m\u001b[0;34m:\u001b[0m\u001b[0;36m0\u001b[0m\u001b[0;34m,\u001b[0m\u001b[0;34m\"forks\"\u001b[0m\u001b[0;34m:\u001b[0m\u001b[0;36m0\u001b[0m\u001b[0;34m,\u001b[0m\u001b[0;34m\"open_issues\"\u001b[0m\u001b[0;34m:\u001b[0m\u001b[0;36m0\u001b[0m\u001b[0;34m,\u001b[0m\u001b[0;34m\"watchers\"\u001b[0m\u001b[0;34m:\u001b[0m\u001b[0;36m0\u001b[0m\u001b[0;34m,\u001b[0m\u001b[0;34m\"default_branch\"\u001b[0m\u001b[0;34m:\u001b[0m\u001b[0;34m\"master\"\u001b[0m\u001b[0;34m,\u001b[0m\u001b[0;34m\"public\"\u001b[0m\u001b[0;34m:\u001b[0m\u001b[0mtrue\u001b[0m\u001b[0;34m}\u001b[0m\u001b[0;34m}\u001b[0m\u001b[0;34m]\u001b[0m\u001b[0;34m,\u001b[0m \u001b[0mseparators\u001b[0m\u001b[0;34m=\u001b[0m\u001b[0;34m(\u001b[0m\u001b[0;34m','\u001b[0m\u001b[0;34m,\u001b[0m\u001b[0;34m':'\u001b[0m\u001b[0;34m)\u001b[0m\u001b[0;34m)\u001b[0m\u001b[0;34m\u001b[0m\u001b[0m\n\u001b[0m",
      "\u001b[0;31mNameError\u001b[0m: name 'false' is not defined"
     ]
    }
   ],
   "source": [
    "json.dumps({\"forkee\":{\"id\":60141133,\"name\":\"hackUtils\",\"full_name\":\"aa2288207/hackUtils\",\"owner\":{\"login\":\"aa2288207\",\"id\":9385085,\"avatar_url\":\"https://avatars.githubusercontent.com/u/9385085?v=3\",\"gravatar_id\":\"\",\"url\":\"https://api.github.com/users/aa2288207\",\"html_url\":\"https://github.com/aa2288207\",\"followers_url\":\"https://api.github.com/users/aa2288207/followers\",\"following_url\":\"https://api.github.com/users/aa2288207/following{/other_user}\",\"gists_url\":\"https://api.github.com/users/aa2288207/gists{/gist_id}\",\"starred_url\":\"https://api.github.com/users/aa2288207/starred{/owner}{/repo}\",\"subscriptions_url\":\"https://api.github.com/users/aa2288207/subscriptions\",\"organizations_url\":\"https://api.github.com/users/aa2288207/orgs\",\"repos_url\":\"https://api.github.com/users/aa2288207/repos\",\"events_url\":\"https://api.github.com/users/aa2288207/events{/privacy}\",\"received_events_url\":\"https://api.github.com/users/aa2288207/received_events\",\"type\":\"User\",\"site_admin\":false},\"private\":false,\"html_url\":\"https://github.com/aa2288207/hackUtils\",\"description\":\"It is a hack tool kit for pentest and web security research.\",\"fork\":true,\"url\":\"https://api.github.com/repos/aa2288207/hackUtils\",\"forks_url\":\"https://api.github.com/repos/aa2288207/hackUtils/forks\",\"keys_url\":\"https://api.github.com/repos/aa2288207/hackUtils/keys{/key_id}\",\"collaborators_url\":\"https://api.github.com/repos/aa2288207/hackUtils/collaborators{/collaborator}\",\"teams_url\":\"https://api.github.com/repos/aa2288207/hackUtils/teams\",\"hooks_url\":\"https://api.github.com/repos/aa2288207/hackUtils/hooks\",\"issue_events_url\":\"https://api.github.com/repos/aa2288207/hackUtils/issues/events{/number}\",\"events_url\":\"https://api.github.com/repos/aa2288207/hackUtils/events\",\"assignees_url\":\"https://api.github.com/repos/aa2288207/hackUtils/assignees{/user}\",\"branches_url\":\"https://api.github.com/repos/aa2288207/hackUtils/branches{/branch}\",\"tags_url\":\"https://api.github.com/repos/aa2288207/hackUtils/tags\",\"blobs_url\":\"https://api.github.com/repos/aa2288207/hackUtils/git/blobs{/sha}\",\"git_tags_url\":\"https://api.github.com/repos/aa2288207/hackUtils/git/tags{/sha}\",\"git_refs_url\":\"https://api.github.com/repos/aa2288207/hackUtils/git/refs{/sha}\",\"trees_url\":\"https://api.github.com/repos/aa2288207/hackUtils/git/trees{/sha}\",\"statuses_url\":\"https://api.github.com/repos/aa2288207/hackUtils/statuses/{sha}\",\"languages_url\":\"https://api.github.com/repos/aa2288207/hackUtils/languages\",\"stargazers_url\":\"https://api.github.com/repos/aa2288207/hackUtils/stargazers\",\"contributors_url\":\"https://api.github.com/repos/aa2288207/hackUtils/contributors\",\"subscribers_url\":\"https://api.github.com/repos/aa2288207/hackUtils/subscribers\",\"subscription_url\":\"https://api.github.com/repos/aa2288207/hackUtils/subscription\",\"commits_url\":\"https://api.github.com/repos/aa2288207/hackUtils/commits{/sha}\",\"git_commits_url\":\"https://api.github.com/repos/aa2288207/hackUtils/git/commits{/sha}\",\"comments_url\":\"https://api.github.com/repos/aa2288207/hackUtils/comments{/number}\",\"issue_comment_url\":\"https://api.github.com/repos/aa2288207/hackUtils/issues/comments{/number}\",\"contents_url\":\"https://api.github.com/repos/aa2288207/hackUtils/contents/{+path}\",\"compare_url\":\"https://api.github.com/repos/aa2288207/hackUtils/compare/{base}...{head}\",\"merges_url\":\"https://api.github.com/repos/aa2288207/hackUtils/merges\",\"archive_url\":\"https://api.github.com/repos/aa2288207/hackUtils/{archive_format}{/ref}\",\"downloads_url\":\"https://api.github.com/repos/aa2288207/hackUtils/downloads\",\"issues_url\":\"https://api.github.com/repos/aa2288207/hackUtils/issues{/number}\",\"pulls_url\":\"https://api.github.com/repos/aa2288207/hackUtils/pulls{/number}\",\"milestones_url\":\"https://api.github.com/repos/aa2288207/hackUtils/milestones{/number}\",\"notifications_url\":\"https://api.github.com/repos/aa2288207/hackUtils/notifications{?since,all,participating}\",\"labels_url\":\"https://api.github.com/repos/aa2288207/hackUtils/labels{/name}\",\"releases_url\":\"https://api.github.com/repos/aa2288207/hackUtils/releases{/id}\",\"deployments_url\":\"https://api.github.com/repos/aa2288207/hackUtils/deployments\",\"created_at\":\"2016-06-01T03:02:20Z\",\"updated_at\":\"2016-05-26T06:28:09Z\",\"pushed_at\":\"2016-05-09T11:59:41Z\",\"git_url\":\"git://github.com/aa2288207/hackUtils.git\",\"ssh_url\":\"git@github.com:aa2288207/hackUtils.git\",\"clone_url\":\"https://github.com/aa2288207/hackUtils.git\",\"svn_url\":\"https://github.com/aa2288207/hackUtils\",\"homepage\":\"\",\"size\":161,\"stargazers_count\":0,\"watchers_count\":0,\"language\":null,\"has_issues\":false,\"has_downloads\":true,\"has_wiki\":true,\"has_pages\":false,\"forks_count\":0,\"mirror_url\":null,\"open_issues_count\":0,\"forks\":0,\"open_issues\":0,\"watchers\":0,\"default_branch\":\"master\",\"public\":true}})"
   ]
  },
  {
   "cell_type": "code",
   "execution_count": null,
   "metadata": {},
   "outputs": [],
   "source": []
  }
 ],
 "metadata": {
  "kernelspec": {
   "display_name": "Python 3",
   "language": "python",
   "name": "python3"
  },
  "language_info": {
   "codemirror_mode": {
    "name": "ipython",
    "version": 3
   },
   "file_extension": ".py",
   "mimetype": "text/x-python",
   "name": "python",
   "nbconvert_exporter": "python",
   "pygments_lexer": "ipython3",
   "version": "3.6.6"
  }
 },
 "nbformat": 4,
 "nbformat_minor": 2
}
