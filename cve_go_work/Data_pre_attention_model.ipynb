{
 "cells": [
  {
   "cell_type": "code",
   "execution_count": 1,
   "metadata": {},
   "outputs": [],
   "source": [
    "import pickle"
   ]
  },
  {
   "cell_type": "code",
   "execution_count": 4,
   "metadata": {},
   "outputs": [
    {
     "name": "stdout",
     "output_type": "stream",
     "text": [
      "total 19384148\r\n",
      "drwxr-xr-x  2 veyadav veyadav       4096 Dec  5 18:39  \u001b[0m\u001b[38;5;33mall\u001b[0m/\r\n",
      "-rwxr-----  1 veyadav veyadav   55956017 Dec  5 18:30  \u001b[38;5;40mall.zip\u001b[0m*\r\n",
      "-rw-rw-r--  1 veyadav veyadav      14147 Dec  6 03:07  Attention_Bi_Directional_LSTM.ipynb\r\n",
      "-rw-rw-r--  1 veyadav veyadav  401575364 Nov 25 12:24  comments_1.pkl\r\n",
      "-rw-rw-r--  1 veyadav veyadav  401575364 Nov 26 01:54  comments_.pkl\r\n",
      "-rw-rw-r--  1 veyadav veyadav  411283254 Nov 22 22:56  comments_vec.pkl\r\n",
      "-rw-r--r--  1 veyadav veyadav 7235845152 Aug 22 13:30  crawl-300d-2M-subword.bin\r\n",
      "-rw-r--r--  1 veyadav veyadav 4520128711 Aug 22 13:30  crawl-300d-2M-subword.vec\r\n",
      "-rw-rw-r--  1 veyadav veyadav  495925566 Dec  3 11:12  data1.pkl\r\n",
      "-rw-rw-r--  1 veyadav veyadav  343927649 Nov 11 13:39  data.pkl\r\n",
      "-rw-rw-r--  1 veyadav veyadav       6217 Dec  6 03:32  Data_pre_attention_model.ipynb\r\n",
      "-rw-rw-r--  1 veyadav veyadav      30418 Nov 30 15:58  demo.pkl\r\n",
      "-rw-rw-r--  1 veyadav veyadav        129 Nov  2 19:47  Dockerfile\r\n",
      "-rw-rw-r--. 1 veyadav veyadav      85841 Oct  8 16:21  doc.p\r\n",
      "-rw-rw-r--  1 veyadav veyadav     322369 Aug 29 15:45  download_links.json\r\n",
      "-rw-rw-r--. 1 veyadav veyadav   26466374 Oct  6 00:29 'download?product=community'\r\n",
      "-rw-rw-r--  1 veyadav veyadav  240000164 Dec  5 22:19  embedding.pkl\r\n",
      "-rw-rw-r--. 1 veyadav veyadav     318018 Oct  9 17:02  Exp1_got_rejected.ipynb\r\n",
      "-rw-rw-r--  1 veyadav veyadav     126551 Nov 30 16:02  Exp2_Clustering_Apporach1.ipynb\r\n",
      "-rw-rw-r--  1 veyadav veyadav     127296 Nov 30 16:00  Exp2_Clustering_Apporach.ipynb\r\n",
      "-rw-rw-r--  1 veyadav veyadav       1050 Nov 24 10:07  exp2.py\r\n",
      "-rw-rw-r--  1 veyadav veyadav 4951874077 Nov 14 11:08  fasttext_vec.pkl\r\n",
      "-rw-rw-r--  1 veyadav veyadav     903825 Nov 26 05:12  \u001b[38;5;13mFigure_1.png\u001b[0m\r\n",
      "-rw-rw-r--  1 veyadav veyadav  321820243 Dec  3 14:40  gensim_model.pkl\r\n",
      "-rw-rw-r--  1 veyadav veyadav      98592 Nov 30 16:45  Github_api.ipynb\r\n",
      "-rw-rw-r--  1 veyadav veyadav       4763 Dec  2 17:55  github_api.py\r\n",
      "-rw-rw-r--. 1 veyadav veyadav      93483 Oct  9 17:10  Github_crawling_using_beautifulsoap.ipynb\r\n",
      "-rw-rw-r--  1 veyadav veyadav        263 Nov 28 22:08  hack_check.py\r\n",
      "-rw-rw-r--  1 veyadav veyadav       1381 Nov 19 11:38  key.txt\r\n",
      "drwxrwxr-x  3 veyadav veyadav       4096 Oct 28 15:26  \u001b[38;5;33mminisom-master\u001b[0m/\r\n",
      "-rw-rw-r--  1 veyadav veyadav      38459 Dec  4 10:23  Model_Topic_gensim.ipynb\r\n",
      "-rw-rw-r--  1 veyadav veyadav      18802 Oct 28 15:26  modified_minisom.py\r\n",
      "-rw-rw-r--. 1 veyadav veyadav      78445 Oct  8 17:14  neg_data.p\r\n",
      "-rw-rw-r--. 1 veyadav veyadav      33307 Nov 11 11:52 'NLP STUFF.ipynb'\r\n",
      "drwxrwxr-x  4 veyadav veyadav       4096 Dec  6 03:08  \u001b[38;5;33mnvd_data\u001b[0m/\r\n",
      "-rw-rw-r--  1 veyadav veyadav        741 Nov 26 05:28  plot_file.py\r\n",
      "-rw-rw-r--. 1 veyadav veyadav     243409 Oct  8 17:05  pos_data.p\r\n",
      "-rw-rw-r--  1 veyadav veyadav      35384 Dec  3 11:21  preprocess_exp2.ipynb\r\n",
      "-rw-rw-r--  1 veyadav veyadav  135138183 Nov 14 10:06  processed_comments.pkl\r\n",
      "-rw-rw-r--  1 veyadav veyadav  196115919 Dec  3 11:25  processed_issues.pkl\r\n",
      "drwxrwxr-x  2 veyadav veyadav       4096 Nov 30 15:58  \u001b[38;5;33m__pycache__\u001b[0m/\r\n",
      "-rw-rw-r--. 1 veyadav veyadav         13 Oct  7 07:19  READE.md\r\n",
      "drwxr-xr-x  2 veyadav veyadav      40960 Dec  3 11:11  \u001b[38;5;33mrepo\u001b[0m/\r\n",
      "-rw-rw-r--  1 veyadav veyadav      37588 Nov  1 15:29  Repos_extarctor.ipynb\r\n",
      "-rw-rw-r--  1 veyadav veyadav     109726 Nov  1 15:29  repos_list.pkl\r\n",
      "-rw-rw-r--  1 veyadav veyadav     966791 Nov 26 01:54  som.pkl\r\n",
      "-rwxrwxr-x  1 veyadav veyadav         37 Nov  2 19:42  \u001b[38;5;40mstart.sh\u001b[0m*\r\n",
      "-rw-rw-r--  1 veyadav veyadav       2040 Nov 22 07:40  stopwrd\r\n",
      "-rw-rw-r--. 1 veyadav veyadav        984 Oct 11 11:00  test1.py\r\n",
      "-rw-rw-r--  1 veyadav veyadav   11504058 Nov  1 14:13  test.pk\r\n",
      "-rw-rw-r--  1 veyadav veyadav        722 Nov  6 14:15  thread_github.py\r\n",
      "-rw-rw-r--  1 veyadav veyadav        431 Oct 31 14:42  token.pkl\r\n",
      "-rw-rw-r--  1 veyadav veyadav        217 Nov 26 14:04  training_som.py\r\n",
      "-rw-rw-r--. 1 veyadav veyadav   96304198 Oct  9 11:17  train.p\r\n",
      "-rw-rw-r--. 1 veyadav veyadav       4174 Oct  5 23:41  wget-log\r\n"
     ]
    }
   ],
   "source": [
    "ls -l"
   ]
  },
  {
   "cell_type": "code",
   "execution_count": 13,
   "metadata": {},
   "outputs": [],
   "source": [
    "golang_data = pickle.load(open(\"processed_comments.pkl\",\"rb\"))"
   ]
  },
  {
   "cell_type": "code",
   "execution_count": 14,
   "metadata": {},
   "outputs": [],
   "source": [
    "negative_data = pickle.load(open(\"./nvd_data/nvd_feed/data.pkl\",\"rb\"))"
   ]
  },
  {
   "cell_type": "code",
   "execution_count": 11,
   "metadata": {},
   "outputs": [
    {
     "data": {
      "text/plain": [
       "119563"
      ]
     },
     "execution_count": 11,
     "metadata": {},
     "output_type": "execute_result"
    }
   ],
   "source": [
    "len(negative_data)"
   ]
  },
  {
   "cell_type": "code",
   "execution_count": 16,
   "metadata": {},
   "outputs": [
    {
     "data": {
      "text/plain": [
       "167415"
      ]
     },
     "execution_count": 16,
     "metadata": {},
     "output_type": "execute_result"
    }
   ],
   "source": [
    "len(golang_data)"
   ]
  },
  {
   "cell_type": "code",
   "execution_count": 42,
   "metadata": {},
   "outputs": [],
   "source": [
    "# vul_list = [\n",
    "# \"Acceptable Interruption Window\",\"Acceptable Use Policy\",\"Access Control List\",\"Access Path\",\"Access Point\",\n",
    "#     \"Access Profile\",\"Access Rights\",\"Access Type\",\"Accountability\",\"Accounting Legend Code\",\"Account Management\",\n",
    "#     \"Active Security Testing\",\"Ad Hoc Network\",\"Administrative Safeguards\",\n",
    "# \"Advanced Encryption Standard\", \"AES\",\"Advanced Penetration Testing\",\"Advanced Persistent Threat\", \n",
    "# \"APT\",\"Adversary\",\"Adware\",\"Alert Situation\",\"Alternate Facilities\",\n",
    "# \"Alternate Process\",\"Analog\",\"Anti Malware\",\"Anti Virus Software\",\"App Attack\",\"Asymmetric Key\",\"Attack\",\n",
    "# \"Attack Mechanism\",\"Attack Vector\",\"Attenuation\",\"Audit Trail\",\"Authentication\",\"Authenticity\",\"Availability\",\n",
    "# \"Backdoor\",\"Banner\",\"Banner Grabbing\",\"Baseline Security\",\"Bastion\",\n",
    "# \"Bastion Host\",\"Behavioral Outcome\",\"Black Core\",\"Blended Attack\",\"Block Cipher\",\"Block Cipher Algorithm\",\n",
    "# \"Botnet\",\"Boundary\",\"Bridge\",\"Brute Force\",\"Brute Force Attack\",\"Central Services Node\",\"Certificate Authority\",\n",
    "# \"Certificate Management\",\"Certification Revocation List\",\"Cipher\",\"Cipher Text\",\"Ciphony\",\"Claimant\",\n",
    "#     \"Clinger Cohen Act of 1996\",\"Cold Site\",\"Common Access Card\", \"CAC\",\n",
    "# \"Common Attack Pattern Enumeration and Classification\", \"CAPEC\",\"Computer Emergency Response Team\", \"CERT\",\n",
    "# \"Computer Forensics\",\"Critical Infrastructure\",\"Criticality\",\"Criticality Analysis\",\"Cross Site Scripting\",\"XSS\",\n",
    "# \"Cryptography\",\"Cryptosystem\",\"Cybercop\",\"Cyberespionage\",\"Cyber Security Architecture\",\"Cyber Security\",\n",
    "#     \"Cyberwarfare\",\n",
    "# \"Data Custodian\",\"Data Encryption Standard\",\"Data Flow Control\",\"Data Leakage\",\"Data Retention\",\n",
    "# \"Decryption\",\"Defense in Depth\",\"Demilitarized Zone\",\"Denial of Service Attack\",\"Digital Forensics\",\n",
    "# \"Disaster Recovery Plan\",\"Discretionary Access Control\",\"Disk Imaging\",\"Disruption\",\n",
    "#     \"Distributed Denial of Service\" \"DDoS\", \"Domain Name Systems (DNS) Exfiltration\",\n",
    "#     \"Due Diligence\",\"Duplicate Digital Evidence\", \"Virtual Private Network\", \"VPN\",\n",
    "# \"Virus\",\"Voice Intrusion Prevention System\", \"VIPS\" \"secure\", \"security\", \"vulnerability\", \"vulnerable\"]\n",
    "vul_list = [\"vulnerability\", \"vulnerable\", \"security\"]"
   ]
  },
  {
   "cell_type": "code",
   "execution_count": 46,
   "metadata": {},
   "outputs": [],
   "source": [
    "list_vul = []\n",
    "for doc_idx,doc in enumerate(golang_data):\n",
    "    for word in vul_list:\n",
    "        if word.lower() in doc:\n",
    "            list_vul.append(doc_idx)"
   ]
  },
  {
   "cell_type": "code",
   "execution_count": 56,
   "metadata": {},
   "outputs": [],
   "source": [
    "positive_data = []\n",
    "for idx in range(len(golang_data)):\n",
    "    if idx not in list_vul:\n",
    "        positive_data.append(golang_data[idx])"
   ]
  },
  {
   "cell_type": "code",
   "execution_count": 57,
   "metadata": {},
   "outputs": [
    {
     "name": "stdout",
     "output_type": "stream",
     "text": [
      "164938\n",
      "119563\n"
     ]
    }
   ],
   "source": [
    "print(len(positive_data))\n",
    "print(len(negative_data))"
   ]
  },
  {
   "cell_type": "code",
   "execution_count": 58,
   "metadata": {},
   "outputs": [],
   "source": [
    "y = [1] * len(positive_data) + [0] * len(negative_data)\n",
    "dat = positive_data + negative_data"
   ]
  },
  {
   "cell_type": "code",
   "execution_count": 97,
   "metadata": {},
   "outputs": [],
   "source": [
    "data = pd.DataFrame({\"Comments\":dat,\"Label\":y})"
   ]
  },
  {
   "cell_type": "code",
   "execution_count": 99,
   "metadata": {},
   "outputs": [],
   "source": [
    "data = data.sample(frac=1)"
   ]
  },
  {
   "cell_type": "code",
   "execution_count": 101,
   "metadata": {},
   "outputs": [],
   "source": [
    "pickle.dump(data,open(\"attention_data.pkl\",\"wb\"))"
   ]
  },
  {
   "cell_type": "code",
   "execution_count": 1,
   "metadata": {},
   "outputs": [],
   "source": [
    "import pickle\n",
    "test_issue = pickle.load(open(\"test_issue.pkl\",\"rb\"))"
   ]
  },
  {
   "cell_type": "code",
   "execution_count": 2,
   "metadata": {},
   "outputs": [],
   "source": [
    "import pandas as pd"
   ]
  },
  {
   "cell_type": "code",
   "execution_count": 3,
   "metadata": {},
   "outputs": [
    {
     "data": {
      "text/html": [
       "<div>\n",
       "<style scoped>\n",
       "    .dataframe tbody tr th:only-of-type {\n",
       "        vertical-align: middle;\n",
       "    }\n",
       "\n",
       "    .dataframe tbody tr th {\n",
       "        vertical-align: top;\n",
       "    }\n",
       "\n",
       "    .dataframe thead th {\n",
       "        text-align: right;\n",
       "    }\n",
       "</style>\n",
       "<table border=\"1\" class=\"dataframe\">\n",
       "  <thead>\n",
       "    <tr style=\"text-align: right;\">\n",
       "      <th></th>\n",
       "      <th>0</th>\n",
       "    </tr>\n",
       "  </thead>\n",
       "  <tbody>\n",
       "    <tr>\n",
       "      <th>0</th>\n",
       "      <td>Durable local storage Is there a way to pin a ...</td>\n",
       "    </tr>\n",
       "    <tr>\n",
       "      <th>1</th>\n",
       "      <td>Consider not handling YAML in APIserver The AP...</td>\n",
       "    </tr>\n",
       "    <tr>\n",
       "      <th>2</th>\n",
       "      <td>Volumes are created in container with root own...</td>\n",
       "    </tr>\n",
       "    <tr>\n",
       "      <th>3</th>\n",
       "      <td>What storage driver should AWS use? I have str...</td>\n",
       "    </tr>\n",
       "    <tr>\n",
       "      <th>4</th>\n",
       "      <td>Make it possible to shell into any container e...</td>\n",
       "    </tr>\n",
       "    <tr>\n",
       "      <th>5</th>\n",
       "      <td>Secure master node communication Forked from T...</td>\n",
       "    </tr>\n",
       "    <tr>\n",
       "      <th>6</th>\n",
       "      <td>Any panic inside a rest handler causes API ser...</td>\n",
       "    </tr>\n",
       "    <tr>\n",
       "      <th>7</th>\n",
       "      <td>Adding coarse grained security policy at servi...</td>\n",
       "    </tr>\n",
       "    <tr>\n",
       "      <th>8</th>\n",
       "      <td>Impossible to completely eliminate insecure ac...</td>\n",
       "    </tr>\n",
       "    <tr>\n",
       "      <th>9</th>\n",
       "      <td>NsenterWriter is an arbitrary shell execution ...</td>\n",
       "    </tr>\n",
       "    <tr>\n",
       "      <th>10</th>\n",
       "      <td>make it possible to unmount secrets Many appli...</td>\n",
       "    </tr>\n",
       "    <tr>\n",
       "      <th>11</th>\n",
       "      <td>Why does GCE salt setup do not use master mini...</td>\n",
       "    </tr>\n",
       "    <tr>\n",
       "      <th>12</th>\n",
       "      <td>create syscall filters for k8s supplied compo...</td>\n",
       "    </tr>\n",
       "    <tr>\n",
       "      <th>13</th>\n",
       "      <td>Kubernetes security in master slave salt mode ...</td>\n",
       "    </tr>\n",
       "    <tr>\n",
       "      <th>14</th>\n",
       "      <td>Ensuring only images are from approved sources...</td>\n",
       "    </tr>\n",
       "    <tr>\n",
       "      <th>15</th>\n",
       "      <td>I ve found 3 vulnerabilities of kubernetes on ...</td>\n",
       "    </tr>\n",
       "    <tr>\n",
       "      <th>16</th>\n",
       "      <td>Client certificate auth is using the subject C...</td>\n",
       "    </tr>\n",
       "    <tr>\n",
       "      <th>17</th>\n",
       "      <td>Dynamic provisioning with Secrets can leak any...</td>\n",
       "    </tr>\n",
       "    <tr>\n",
       "      <th>18</th>\n",
       "      <td>Tracking Kubernetes Product Security Response ...</td>\n",
       "    </tr>\n",
       "    <tr>\n",
       "      <th>19</th>\n",
       "      <td>Docker Vulnerability CVE 2016 9962 Thanks for ...</td>\n",
       "    </tr>\n",
       "    <tr>\n",
       "      <th>20</th>\n",
       "      <td>Napkin design bulk namespace access control an...</td>\n",
       "    </tr>\n",
       "    <tr>\n",
       "      <th>21</th>\n",
       "      <td>Hyperkube image contains vulnerable rootfs com...</td>\n",
       "    </tr>\n",
       "    <tr>\n",
       "      <th>22</th>\n",
       "      <td>End 2 end encrypted kubectl exec using SSH as ...</td>\n",
       "    </tr>\n",
       "    <tr>\n",
       "      <th>23</th>\n",
       "      <td>CVE 2017 1000056 PodSecurityPolicy admission p...</td>\n",
       "    </tr>\n",
       "    <tr>\n",
       "      <th>24</th>\n",
       "      <td>Per container automountServiceAccountToken Co...</td>\n",
       "    </tr>\n",
       "    <tr>\n",
       "      <th>25</th>\n",
       "      <td>endpoints for daemonset in host network not re...</td>\n",
       "    </tr>\n",
       "    <tr>\n",
       "      <th>26</th>\n",
       "      <td>Downward API support in volume subPath This fo...</td>\n",
       "    </tr>\n",
       "    <tr>\n",
       "      <th>27</th>\n",
       "      <td>Also include namespace in encoding for append ...</td>\n",
       "    </tr>\n",
       "    <tr>\n",
       "      <th>28</th>\n",
       "      <td>Nginx ingress controller closes chunked encodi...</td>\n",
       "    </tr>\n",
       "    <tr>\n",
       "      <th>29</th>\n",
       "      <td>Volume from a remote archive kind feature Righ...</td>\n",
       "    </tr>\n",
       "    <tr>\n",
       "      <th>30</th>\n",
       "      <td>Kubelet API to lookup pod name from socket The...</td>\n",
       "    </tr>\n",
       "    <tr>\n",
       "      <th>31</th>\n",
       "      <td>CVE 2017 1002101 subpath volume mount handling...</td>\n",
       "    </tr>\n",
       "    <tr>\n",
       "      <th>32</th>\n",
       "      <td>CVE 2017 1002102 atomic writer volume handling...</td>\n",
       "    </tr>\n",
       "    <tr>\n",
       "      <th>33</th>\n",
       "      <td>configMap and secrets volumeMount are always m...</td>\n",
       "    </tr>\n",
       "    <tr>\n",
       "      <th>34</th>\n",
       "      <td>OpenSSL vulnerability need upgrade openssl to ...</td>\n",
       "    </tr>\n",
       "    <tr>\n",
       "      <th>35</th>\n",
       "      <td>Support for custom tls cipher suites in kube p...</td>\n",
       "    </tr>\n",
       "    <tr>\n",
       "      <th>36</th>\n",
       "      <td>Move coredns coredns to k8s gcr io for 1 10 an...</td>\n",
       "    </tr>\n",
       "    <tr>\n",
       "      <th>37</th>\n",
       "      <td>Update kube addon manager base Alpine image to...</td>\n",
       "    </tr>\n",
       "    <tr>\n",
       "      <th>38</th>\n",
       "      <td>Kubernetes URL has Cross Site Scripting vulner...</td>\n",
       "    </tr>\n",
       "    <tr>\n",
       "      <th>39</th>\n",
       "      <td>CVE 2018 1002105 proxy request handling in kub...</td>\n",
       "    </tr>\n",
       "    <tr>\n",
       "      <th>40</th>\n",
       "      <td>Request to hotfix 1 8 15 for CVE 2018 1002105 ...</td>\n",
       "    </tr>\n",
       "  </tbody>\n",
       "</table>\n",
       "</div>"
      ],
      "text/plain": [
       "                                                    0\n",
       "0   Durable local storage Is there a way to pin a ...\n",
       "1   Consider not handling YAML in APIserver The AP...\n",
       "2   Volumes are created in container with root own...\n",
       "3   What storage driver should AWS use? I have str...\n",
       "4   Make it possible to shell into any container e...\n",
       "5   Secure master node communication Forked from T...\n",
       "6   Any panic inside a rest handler causes API ser...\n",
       "7   Adding coarse grained security policy at servi...\n",
       "8   Impossible to completely eliminate insecure ac...\n",
       "9   NsenterWriter is an arbitrary shell execution ...\n",
       "10  make it possible to unmount secrets Many appli...\n",
       "11  Why does GCE salt setup do not use master mini...\n",
       "12   create syscall filters for k8s supplied compo...\n",
       "13  Kubernetes security in master slave salt mode ...\n",
       "14  Ensuring only images are from approved sources...\n",
       "15  I ve found 3 vulnerabilities of kubernetes on ...\n",
       "16  Client certificate auth is using the subject C...\n",
       "17  Dynamic provisioning with Secrets can leak any...\n",
       "18  Tracking Kubernetes Product Security Response ...\n",
       "19  Docker Vulnerability CVE 2016 9962 Thanks for ...\n",
       "20  Napkin design bulk namespace access control an...\n",
       "21  Hyperkube image contains vulnerable rootfs com...\n",
       "22  End 2 end encrypted kubectl exec using SSH as ...\n",
       "23  CVE 2017 1000056 PodSecurityPolicy admission p...\n",
       "24   Per container automountServiceAccountToken Co...\n",
       "25  endpoints for daemonset in host network not re...\n",
       "26  Downward API support in volume subPath This fo...\n",
       "27  Also include namespace in encoding for append ...\n",
       "28  Nginx ingress controller closes chunked encodi...\n",
       "29  Volume from a remote archive kind feature Righ...\n",
       "30  Kubelet API to lookup pod name from socket The...\n",
       "31  CVE 2017 1002101 subpath volume mount handling...\n",
       "32  CVE 2017 1002102 atomic writer volume handling...\n",
       "33  configMap and secrets volumeMount are always m...\n",
       "34  OpenSSL vulnerability need upgrade openssl to ...\n",
       "35  Support for custom tls cipher suites in kube p...\n",
       "36  Move coredns coredns to k8s gcr io for 1 10 an...\n",
       "37  Update kube addon manager base Alpine image to...\n",
       "38  Kubernetes URL has Cross Site Scripting vulner...\n",
       "39  CVE 2018 1002105 proxy request handling in kub...\n",
       "40  Request to hotfix 1 8 15 for CVE 2018 1002105 ..."
      ]
     },
     "execution_count": 3,
     "metadata": {},
     "output_type": "execute_result"
    }
   ],
   "source": [
    "data = pd.DataFrame(test_issue)"
   ]
  },
  {
   "cell_type": "code",
   "execution_count": null,
   "metadata": {},
   "outputs": [],
   "source": []
  }
 ],
 "metadata": {
  "kernelspec": {
   "display_name": "Python 3",
   "language": "python",
   "name": "python3"
  },
  "language_info": {
   "codemirror_mode": {
    "name": "ipython",
    "version": 3
   },
   "file_extension": ".py",
   "mimetype": "text/x-python",
   "name": "python",
   "nbconvert_exporter": "python",
   "pygments_lexer": "ipython3",
   "version": "3.6.6"
  }
 },
 "nbformat": 4,
 "nbformat_minor": 2
}
