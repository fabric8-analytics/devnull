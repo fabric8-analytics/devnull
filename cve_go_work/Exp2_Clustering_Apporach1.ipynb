{
 "cells": [
  {
   "cell_type": "code",
   "execution_count": 2,
   "metadata": {},
   "outputs": [],
   "source": [
    "import pickle\n",
    "import numpy as np\n",
    "from modified_minisom import MiniSom as Som\n",
    "# from nltk.corpus import stopwords"
   ]
  },
  {
   "cell_type": "markdown",
   "metadata": {},
   "source": [
    "# Converting Doc to Vec"
   ]
  },
  {
   "cell_type": "code",
   "execution_count": 2,
   "metadata": {},
   "outputs": [],
   "source": [
    "# stop_words = set(stopwords.words(\"english\"))"
   ]
  },
  {
   "cell_type": "code",
   "execution_count": 5,
   "metadata": {},
   "outputs": [],
   "source": [
    "# def read_vec():\n",
    "#     with open(\"crawl-300d-2M-subword.vec\") as fp:\n",
    "#         for line in fp.readlines():\n",
    "#             splitted = line.split(\" \")\n",
    "#             yield splitted[0], np.array(splitted[1:], dtype=np.float)\n",
    "# fastext_dict = {w:x for w,x in read_vec()}\n",
    "# pickle.dump(fastext_dict,open(\"fasttext_vec.pkl\",\"wb\"))\n",
    "# pickle.dump(stop_words,open(\"stopwrd\",\"wb\"))"
   ]
  },
  {
   "cell_type": "code",
   "execution_count": 49,
   "metadata": {},
   "outputs": [],
   "source": [
    "fasttext_dict = pickle.load(open(\"fasttext_vec.pkl\",\"rb\"))"
   ]
  },
  {
   "cell_type": "code",
   "execution_count": 47,
   "metadata": {},
   "outputs": [],
   "source": [
    "comments = pickle.load(open(\"processed_comments.pkl\",\"rb\"))"
   ]
  },
  {
   "cell_type": "code",
   "execution_count": 4,
   "metadata": {},
   "outputs": [],
   "source": [
    "stop_words = pickle.load(open(\"stopwrd\",\"rb\"))"
   ]
  },
  {
   "cell_type": "code",
   "execution_count": 5,
   "metadata": {},
   "outputs": [],
   "source": [
    "def tokenize_comments(comments):\n",
    "    comments = comments.split()\n",
    "    comments = [t for t in comments \n",
    "                if t not in stop_words and t != '']\n",
    "    return comments\n",
    "\n",
    "tokenized_comments = [tokenize_comments(comment)\n",
    "                         for comment in comments]"
   ]
  },
  {
   "cell_type": "code",
   "execution_count": 35,
   "metadata": {},
   "outputs": [],
   "source": [
    "def comments_to_vec(tokens):\n",
    "    words = [word for word in np.unique(tokens) \n",
    "            if word in fasttext_dict]\n",
    "    if len(words) > 0:\n",
    "        return np.array([fasttext_dict[word] for word in words ])\n",
    "    else :\n",
    "        return words = '.'\n",
    "    \n",
    "vectorized_comments = [comments_to_vec(comments).mean(axis=0)\n",
    "                       for comments in tokenized_comments]\n",
    "vectorized_comments = np.array(vectorized_comments) "
   ]
  },
  {
   "cell_type": "markdown",
   "metadata": {},
   "source": [
    "# SOM training"
   ]
  },
  {
   "cell_type": "code",
   "execution_count": 2,
   "metadata": {},
   "outputs": [],
   "source": [
    "from minisom import MiniSom as som"
   ]
  },
  {
   "cell_type": "code",
   "execution_count": 3,
   "metadata": {},
   "outputs": [],
   "source": [
    "comments_vec = pickle.load(open(\"comments_vec.pkl\",\"rb\"))"
   ]
  },
  {
   "cell_type": "code",
   "execution_count": 4,
   "metadata": {
    "scrolled": true
   },
   "outputs": [
    {
     "name": "stdout",
     "output_type": "stream",
     "text": [
      "1422\n",
      "7075\n",
      "7115\n",
      "18111\n",
      "23588\n",
      "23647\n",
      "37755\n",
      "37850\n",
      "39313\n",
      "40365\n",
      "40715\n",
      "40956\n",
      "45334\n",
      "47685\n",
      "49221\n",
      "49264\n",
      "49316\n",
      "49410\n",
      "49473\n",
      "49479\n",
      "50030\n",
      "50515\n",
      "52314\n",
      "52337\n",
      "56381\n",
      "57796\n",
      "57853\n",
      "57919\n",
      "58050\n",
      "58144\n",
      "58151\n",
      "61661\n",
      "62071\n",
      "65023\n",
      "67558\n",
      "67561\n",
      "69286\n",
      "75860\n",
      "80630\n",
      "98312\n",
      "99072\n",
      "99688\n",
      "100649\n",
      "102800\n",
      "102850\n",
      "110170\n",
      "111337\n",
      "111635\n",
      "112847\n",
      "112968\n",
      "113350\n",
      "113353\n",
      "113721\n",
      "113921\n",
      "116195\n",
      "116198\n",
      "116398\n",
      "119883\n",
      "119886\n",
      "120157\n",
      "120197\n",
      "123990\n",
      "124288\n",
      "128215\n",
      "128246\n",
      "128764\n",
      "129136\n",
      "129186\n",
      "136826\n",
      "137236\n",
      "138970\n",
      "139734\n",
      "139737\n",
      "141608\n",
      "141611\n",
      "144147\n",
      "148974\n",
      "149041\n",
      "149074\n",
      "149205\n",
      "151384\n",
      "151869\n",
      "153332\n",
      "154066\n",
      "156967\n",
      "157388\n",
      "157392\n",
      "157529\n",
      "163115\n",
      "163208\n",
      "163348\n",
      "167109\n"
     ]
    }
   ],
   "source": [
    "comment_list = []\n",
    "for i in range(comments_vec.shape[0]):\n",
    "    try:\n",
    "        comments_vec[i].shape[0]\n",
    "        comment_list.append(comments_vec[i])\n",
    "    except:\n",
    "        print(i)\n",
    "comments = np.array(comment_list)"
   ]
  },
  {
   "cell_type": "code",
   "execution_count": 14,
   "metadata": {},
   "outputs": [],
   "source": [
    "map_dim = 20\n",
    "model = som(map_dim, map_dim, 300, sigma=1.0, random_seed=1)\n",
    "model.train_batch(comments,len(comments)*60)"
   ]
  },
  {
   "cell_type": "code",
   "execution_count": 16,
   "metadata": {},
   "outputs": [],
   "source": [
    "from hyperopt import fmin, tpe, hp"
   ]
  },
  {
   "cell_type": "code",
   "execution_count": 17,
   "metadata": {},
   "outputs": [],
   "source": [
    "def mod_train_som(data,x,y,input_len,sigma,alpha):\n",
    "    som = MiniSom(x=map_dim,y=map_dim,input_len=300,sigma=sigma,learning_rate=alpha)\n",
    "    som.random_weights_init(data)\n",
    "    #training\n",
    "    som.train_random(data,iteration)\n",
    "    return som"
   ]
  },
  {
   "cell_type": "code",
   "execution_count": 18,
   "metadata": {},
   "outputs": [],
   "source": [
    "# set hyper parameter\n",
    "row = comment1.shape[0]\n",
    "x = int(np.sqrt(5 * np.sqrt(row)))\n",
    "y = x\n",
    "input_len = comment1.shape[1]\n",
    "sigma = 0.003\n",
    "alpha = 5\n",
    "iteration = 100"
   ]
  },
  {
   "cell_type": "code",
   "execution_count": 22,
   "metadata": {},
   "outputs": [],
   "source": [
    "best = fmin(\n",
    "    fn=lambda sig: MiniSom(x=x,y=x,input_len=300,sigma=sigma,\n",
    "                           learning_rate=alpha).quantization_error(comment1),\n",
    "    space=hp.uniform(\"sig\", 0.001, x/2.01),\n",
    "    algo=tpe.suggest,\n",
    "    max_evals=200)"
   ]
  },
  {
   "cell_type": "code",
   "execution_count": 23,
   "metadata": {},
   "outputs": [],
   "source": [
    "sigma = best['sig']"
   ]
  },
  {
   "cell_type": "code",
   "execution_count": 70,
   "metadata": {},
   "outputs": [],
   "source": [
    "model.train_som(x,y,input_len,sigma,alpha)"
   ]
  },
  {
   "cell_type": "code",
   "execution_count": 3,
   "metadata": {},
   "outputs": [],
   "source": [
    "import matplotlib.pyplot as plt\n",
    "%matplotlib inline"
   ]
  },
  {
   "cell_type": "code",
   "execution_count": 71,
   "metadata": {},
   "outputs": [
    {
     "data": {
      "text/plain": [
       "(9, 3)"
      ]
     },
     "execution_count": 71,
     "metadata": {},
     "output_type": "execute_result"
    }
   ],
   "source": [
    "dict_ = {}\n",
    "for i,vec in enumerate(W):\n",
    "    winnin_position = model.winner(vec)\n",
    "    plt.text(winnin_position[0],winnin_position[1]+np.random.rand()*.9)"
   ]
  },
  {
   "cell_type": "code",
   "execution_count": null,
   "metadata": {},
   "outputs": [],
   "source": [
    "map_dim = 20\n",
    "plt.figure(figsize=(20, 20))\n",
    "for i, vec in enumerate(comments1):\n",
    "    winnin_position = model1.winner(vec)\n",
    "    plt.text(winnin_position[0], \n",
    "             winnin_position[1]+np.random.rand()*.9,\n",
    "             i)\n",
    "\n",
    "plt.xticks(range(map_dim))\n",
    "plt.yticks(range(map_dim))\n",
    "plt.grid()\n",
    "plt.xlim([0, map_dim])\n",
    "plt.ylim([0, map_dim])\n",
    "plt.plot()"
   ]
  },
  {
   "cell_type": "markdown",
   "metadata": {},
   "source": [
    "# Other Clustering Algos:"
   ]
  },
  {
   "cell_type": "markdown",
   "metadata": {},
   "source": [
    "# Kmean"
   ]
  },
  {
   "cell_type": "code",
   "execution_count": 38,
   "metadata": {},
   "outputs": [],
   "source": [
    "from sklearn.cluster import KMeans\n",
    "from sklearn.decomposition import PCA"
   ]
  },
  {
   "cell_type": "code",
   "execution_count": 39,
   "metadata": {},
   "outputs": [],
   "source": [
    "Nc = range(20, 40)\n",
    "kmeans = [KMeans(n_clusters=i) for i in Nc]"
   ]
  },
  {
   "cell_type": "code",
   "execution_count": 17,
   "metadata": {},
   "outputs": [],
   "source": [
    "score = [kmeans[i].fit(comments1).score(comments1) for i in range(len(kmeans))]\n",
    "# score1 = [kmeans[i].fit(comments1).score(comments1) for i in range(len(kmeans))]\n",
    "# kmean.fit(comments1).score(comments1)"
   ]
  },
  {
   "cell_type": "markdown",
   "metadata": {},
   "source": [
    "# T-SNE"
   ]
  },
  {
   "cell_type": "code",
   "execution_count": 10,
   "metadata": {},
   "outputs": [],
   "source": [
    "import random"
   ]
  },
  {
   "cell_type": "code",
   "execution_count": 15,
   "metadata": {},
   "outputs": [
    {
     "name": "stdout",
     "output_type": "stream",
     "text": [
      "5\n",
      "10\n",
      "30\n"
     ]
    }
   ],
   "source": [
    "from sklearn.manifold import TSNE\n",
    "# import matplotlib.pyplot as plt\n",
    "\n",
    "\n",
    "# Defining Model\n",
    "tsne_5 = TSNE(perplexity=5, n_iter=500)\n",
    "tsne_10 = TSNE(perplexity=10, n_iter=500)\n",
    "tsne_30 = TSNE(perplexity=30, n_iter=500)\n",
    "\n",
    "# # Fitting Model\n",
    "print(\"5\")\n",
    "T_tsne_5 = tsne_5.fit_transform(random.sample(list(comments1),10000))\n",
    "print(\"10\")\n",
    "T_tsne_10 = tsne_10.fit_transform(random.sample(list(comments1),10000))\n",
    "print(\"30\")\n",
    "T_tsne_30 = tsne_30.fit_transform(random.sample(list(comments1),10000))"
   ]
  },
  {
   "cell_type": "code",
   "execution_count": 16,
   "metadata": {},
   "outputs": [
    {
     "data": {
      "image/png": "[encoded data removed]",
      "text/plain": [
       "<Figure size 432x288 with 1 Axes>"
      ]
     },
     "metadata": {
      "needs_background": "light"
     },
     "output_type": "display_data"
    }
   ],
   "source": [
    "# # Plotting 2d t-Sne\n",
    "x_axis = T_tsne_5[:, 0]\n",
    "y_axis = T_tsne_5[:, 1]\n",
    "\n",
    "plt.scatter(x_axis, y_axis)\n",
    "plt.show()"
   ]
  },
  {
   "cell_type": "code",
   "execution_count": 17,
   "metadata": {},
   "outputs": [
    {
     "data": {
      "image/png": "[encoded data removed]",
      "text/plain": [
       "<Figure size 432x288 with 1 Axes>"
      ]
     },
     "metadata": {
      "needs_background": "light"
     },
     "output_type": "display_data"
    }
   ],
   "source": [
    "x_axis = T_tsne_10[:, 0]\n",
    "y_axis = T_tsne_10[:, 1]\n",
    "\n",
    "plt.scatter(x_axis, y_axis)\n",
    "plt.show()"
   ]
  },
  {
   "cell_type": "code",
   "execution_count": 18,
   "metadata": {},
   "outputs": [
    {
     "data": {
      "image/png": "[encoded data removed]",
      "text/plain": [
       "<Figure size 432x288 with 1 Axes>"
      ]
     },
     "metadata": {
      "needs_background": "light"
     },
     "output_type": "display_data"
    }
   ],
   "source": [
    "x_axis = T_tsne_30[:, 0]\n",
    "y_axis = T_tsne_30[:, 1]\n",
    "\n",
    "plt.scatter(x_axis, y_axis)\n",
    "plt.show()"
   ]
  },
  {
   "cell_type": "markdown",
   "metadata": {},
   "source": [
    "# PCA"
   ]
  },
  {
   "cell_type": "code",
   "execution_count": 19,
   "metadata": {},
   "outputs": [
    {
     "data": {
      "image/png": "[encoded data removed]",
      "text/plain": [
       "<Figure size 432x288 with 1 Axes>"
      ]
     },
     "metadata": {
      "needs_background": "light"
     },
     "output_type": "display_data"
    }
   ],
   "source": [
    "from sklearn.decomposition import PCA\n",
    "\n",
    "pca = PCA(n_components=2).fit(comments1)\n",
    "pca_2d = pca.transform(comments1)\n",
    "plt.scatter(pca_2d[:,0],pca_2d[:,1])\n",
    "plt.show()"
   ]
  },
  {
   "cell_type": "markdown",
   "metadata": {},
   "source": [
    "# DBSCAN"
   ]
  },
  {
   "cell_type": "code",
   "execution_count": 20,
   "metadata": {},
   "outputs": [],
   "source": [
    "from sklearn.cluster import DBSCAN\n",
    "\n",
    "# Declaring Model\n",
    "dbscan = DBSCAN()\n",
    "\n",
    "# Fitting\n",
    "dbscan.fit(comments1)"
   ]
  },
  {
   "cell_type": "markdown",
   "metadata": {},
   "source": [
    "# Hierarchy Clustering"
   ]
  },
  {
   "cell_type": "code",
   "execution_count": 37,
   "metadata": {},
   "outputs": [],
   "source": [
    "# Importing Modules\n",
    "from scipy.cluster.hierarchy import linkage, dendrogram\n",
    "\n",
    "mergings = linkage(comments1, method='complete')\n",
    "\n",
    "dendrogram(mergings,leaf_rotation=90,leaf_font_size=6)"
   ]
  },
  {
   "cell_type": "markdown",
   "metadata": {},
   "source": [
    "# EM Cluster"
   ]
  },
  {
   "cell_type": "code",
   "execution_count": 36,
   "metadata": {},
   "outputs": [],
   "source": [
    "from sklearn.metrics import pairwise_distances_argmin\n",
    "\n",
    "def find_clusters(X, n_clusters, rseed=2):\n",
    "    # 1. Randomly choose clusters\n",
    "    rng = np.random.RandomState(rseed)\n",
    "    i = rng.permutation(X.shape[0])[:n_clusters]\n",
    "    centers = X[i]\n",
    "    \n",
    "    while True:\n",
    "        #Assign labels - closest center\n",
    "        labels = pairwise_distances_argmin(X, centers)\n",
    "        \n",
    "        #Find new centers from means\n",
    "        new_centers = np.array([X[labels == i].mean(0)\n",
    "                                for i in range(n_clusters)])\n",
    "        \n",
    "        #Check for convergence\n",
    "        if np.all(centers == new_centers):\n",
    "            break\n",
    "        centers = new_centers\n",
    "    \n",
    "    return centers, labels\n",
    "\n",
    "centers, labels = find_clusters(comments1, 4)"
   ]
  },
  {
   "cell_type": "code",
   "execution_count": 35,
   "metadata": {},
   "outputs": [
    {
     "data": {
      "text/plain": [
       "<matplotlib.collections.PathCollection at 0x7f5c19aefeb8>"
      ]
     },
     "execution_count": 35,
     "metadata": {},
     "output_type": "execute_result"
    },
    {
     "data": {
      "image/png": "[encoded data removed]",
      "text/plain": [
       "<Figure size 432x288 with 1 Axes>"
      ]
     },
     "metadata": {
      "needs_background": "light"
     },
     "output_type": "display_data"
    }
   ],
   "source": [
    "plt.scatter(comments1[:, 0], comments1[:, 1], c=labels, s=50, cmap='viridis')"
   ]
  },
  {
   "cell_type": "markdown",
   "metadata": {},
   "source": [
    "# Finding vul docs"
   ]
  },
  {
   "cell_type": "code",
   "execution_count": 14,
   "metadata": {},
   "outputs": [],
   "source": [
    "import re\n",
    "import pickle\n",
    "\n",
    "word = ['security','CVE','NVD','securities','vulnerability','Cross-Site Scripting','XSS']\n",
    "\n",
    "comments = pickle.load(open(\"processed_comments.pkl\",\"rb\"))\n",
    "\n",
    "vul_list = []\n",
    "for i,comment in enumerate(comments):\n",
    "    if w in word:\n",
    "        vul_list.append(i)"
   ]
  },
  {
   "cell_type": "code",
   "execution_count": 25,
   "metadata": {},
   "outputs": [],
   "source": [
    "demo = pickle.load(open(\"demo.pkl\",\"rb\"))"
   ]
  },
  {
   "cell_type": "code",
   "execution_count": null,
   "metadata": {},
   "outputs": [],
   "source": []
  }
 ],
 "metadata": {
  "kernelspec": {
   "display_name": "Python 3",
   "language": "python",
   "name": "python3"
  },
  "language_info": {
   "codemirror_mode": {
    "name": "ipython",
    "version": 3
   },
   "file_extension": ".py",
   "mimetype": "text/x-python",
   "name": "python",
   "nbconvert_exporter": "python",
   "pygments_lexer": "ipython3",
   "version": "3.6.6"
  }
 },
 "nbformat": 4,
 "nbformat_minor": 2
}
